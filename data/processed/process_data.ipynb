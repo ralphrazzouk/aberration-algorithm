{
 "cells": [
  {
   "cell_type": "markdown",
   "metadata": {},
   "source": [
    "# Process Data\n",
    "This Jupyter notebook goes through generating the processed data from the raw data. This includes applying some `obspy` functions and a dicrete Fourier transform using `numpy`."
   ]
  },
  {
   "cell_type": "code",
   "execution_count": 4,
   "metadata": {},
   "outputs": [],
   "source": [
    "import obspy\n",
    "\n",
    "import preprocess_stream\n",
    "import plot_fft\n",
    "\n",
    "import matplotlib.pyplot as plt"
   ]
  },
  {
   "cell_type": "code",
   "execution_count": null,
   "metadata": {},
   "outputs": [],
   "source": [
    "lunar_dir = r\"..\\lunar\"\n",
    "catalog_dir = lunar_dir + r\"\\training\\catalogs\\apollo12_catalog_GradeA_final.csv\"\n",
    "train_dir = (\n",
    "    lunar_dir\n",
    "    + r\"\\training\\data\\S12_GradeA\\xa.s12.00.mhz.1970-01-19HR00_evid00002.mseed\"\n",
    ")\n",
    "test_dir = (\n",
    "    lunar_dir + r\"\\test\\data\\S12_GradeB\\xa.s12.00.mhz.1969-12-16HR00_evid00006.mseed\"\n",
    ")\n",
    "\n",
    "\n",
    "# catalog = pd.read_csv(catalog_dir)\n",
    "train = obspy.read(train_dir)\n",
    "# test = process_mseed(test_dir, plot=True)\n",
    "\n",
    "print(train)\n",
    "plt.plot()"
   ]
  },
  {
   "cell_type": "code",
   "execution_count": null,
   "metadata": {},
   "outputs": [],
   "source": [
    "min_freq = 0.001  # Minimum frequency (Hz)\n",
    "max_freq = 0.004  # Maximum frequency (Hz)\n",
    "\n",
    "stream = obspy.read(train_dir)\n",
    "print(\"Original Data\")\n",
    "stream.plot()\n",
    "plot_fft(stream[0])\n",
    "\n",
    "\n",
    "preprocessed_stream = preprocess_stream(stream.copy(), min_freq, max_freq, taper=0.03)\n",
    "print(\"Preprocessed Data\")\n",
    "preprocessed_stream.plot()\n",
    "\n",
    "\n",
    "plot_fft(preprocessed_stream[0])"
   ]
  }
 ],
 "metadata": {
  "kernelspec": {
   "display_name": "Python 3",
   "language": "python",
   "name": "python3"
  },
  "language_info": {
   "codemirror_mode": {
    "name": "ipython",
    "version": 3
   },
   "file_extension": ".py",
   "mimetype": "text/x-python",
   "name": "python",
   "nbconvert_exporter": "python",
   "pygments_lexer": "ipython3",
   "version": "3.12.6"
  }
 },
 "nbformat": 4,
 "nbformat_minor": 2
}
