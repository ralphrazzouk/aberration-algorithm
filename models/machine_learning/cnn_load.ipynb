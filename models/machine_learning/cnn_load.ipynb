{
 "cells": [
  {
   "cell_type": "markdown",
   "metadata": {},
   "source": [
    "# Load Convolutional Neural Network\n"
   ]
  },
  {
   "cell_type": "markdown",
   "metadata": {},
   "source": [
    "### Import Packages\n"
   ]
  },
  {
   "cell_type": "code",
   "execution_count": 1,
   "metadata": {},
   "outputs": [],
   "source": [
    "import os\n",
    "import pandas as pd\n",
    "import numpy as np\n",
    "import tensorflow as tf\n",
    "import matplotlib.pyplot as plt\n",
    "from tensorflow.keras.models import Sequential\n",
    "from tensorflow.keras import layers, models\n",
    "from tensorflow.keras.layers import Conv1D, MaxPooling1D, Flatten, Dense\n",
    "from tensorflow.keras.layers import UpSampling1D\n",
    "from tensorflow.keras.utils import Sequence\n",
    "from sklearn.metrics import confusion_matrix, ConfusionMatrixDisplay\n",
    "from scipy.stats import skew, kurtosis"
   ]
  },
  {
   "cell_type": "markdown",
   "metadata": {},
   "source": [
    "## Load Saved Model"
   ]
  },
  {
   "cell_type": "code",
   "execution_count": 2,
   "metadata": {},
   "outputs": [
    {
     "name": "stdout",
     "output_type": "stream",
     "text": [
      "Model: \"sequential\"\n",
      "_________________________________________________________________\n",
      " Layer (type)                Output Shape              Param #   \n",
      "=================================================================\n",
      " conv1d (Conv1D)             (None, 14, 16)            64        \n",
      "                                                                 \n",
      " batch_normalization (BatchN  (None, 14, 16)           64        \n",
      " ormalization)                                                   \n",
      "                                                                 \n",
      " re_lu (ReLU)                (None, 14, 16)            0         \n",
      "                                                                 \n",
      " dropout (Dropout)           (None, 14, 16)            0         \n",
      "                                                                 \n",
      " conv1d_1 (Conv1D)           (None, 12, 32)            1568      \n",
      "                                                                 \n",
      " batch_normalization_1 (Batc  (None, 12, 32)           128       \n",
      " hNormalization)                                                 \n",
      "                                                                 \n",
      " re_lu_1 (ReLU)              (None, 12, 32)            0         \n",
      "                                                                 \n",
      " dropout_1 (Dropout)         (None, 12, 32)            0         \n",
      "                                                                 \n",
      " max_pooling1d (MaxPooling1D  (None, 6, 32)            0         \n",
      " )                                                               \n",
      "                                                                 \n",
      " conv1d_2 (Conv1D)           (None, 4, 64)             6208      \n",
      "                                                                 \n",
      " batch_normalization_2 (Batc  (None, 4, 64)            256       \n",
      " hNormalization)                                                 \n",
      "                                                                 \n",
      " re_lu_2 (ReLU)              (None, 4, 64)             0         \n",
      "                                                                 \n",
      " dropout_2 (Dropout)         (None, 4, 64)             0         \n",
      "                                                                 \n",
      " max_pooling1d_1 (MaxPooling  (None, 2, 64)            0         \n",
      " 1D)                                                             \n",
      "                                                                 \n",
      " conv1d_transpose (Conv1DTra  (None, 4, 64)            12352     \n",
      " nspose)                                                         \n",
      "                                                                 \n",
      " batch_normalization_3 (Batc  (None, 4, 64)            256       \n",
      " hNormalization)                                                 \n",
      "                                                                 \n",
      " re_lu_3 (ReLU)              (None, 4, 64)             0         \n",
      "                                                                 \n",
      " dropout_3 (Dropout)         (None, 4, 64)             0         \n",
      "                                                                 \n",
      " up_sampling1d (UpSampling1D  (None, 8, 64)            0         \n",
      " )                                                               \n",
      "                                                                 \n",
      " conv1d_transpose_1 (Conv1DT  (None, 8, 32)            2080      \n",
      " ranspose)                                                       \n",
      "                                                                 \n",
      " batch_normalization_4 (Batc  (None, 8, 32)            128       \n",
      " hNormalization)                                                 \n",
      "                                                                 \n",
      " re_lu_4 (ReLU)              (None, 8, 32)             0         \n",
      "                                                                 \n",
      " dropout_4 (Dropout)         (None, 8, 32)             0         \n",
      "                                                                 \n",
      " up_sampling1d_1 (UpSampling  (None, 16, 32)           0         \n",
      " 1D)                                                             \n",
      "                                                                 \n",
      " dense (Dense)               (None, 16, 1)             33        \n",
      "                                                                 \n",
      " flatten (Flatten)           (None, 16)                0         \n",
      "                                                                 \n",
      "=================================================================\n",
      "Total params: 23,137\n",
      "Trainable params: 22,721\n",
      "Non-trainable params: 416\n",
      "_________________________________________________________________\n"
     ]
    }
   ],
   "source": [
    "new_model = tf.keras.models.load_model(r\"../../trained_models/cnn_main_50.keras\")\n",
    "new_model.summary()"
   ]
  },
  {
   "cell_type": "markdown",
   "metadata": {},
   "source": [
    "## Load Lunar Training Data\n"
   ]
  },
  {
   "cell_type": "code",
   "execution_count": 3,
   "metadata": {},
   "outputs": [
    {
     "name": "stdout",
     "output_type": "stream",
     "text": [
      "Events:  ['xa.s12.00.mhz.1969-12-16HR00_evid00006.csv', 'xa.s12.00.mhz.1970-01-09HR00_evid00007.csv', 'xa.s12.00.mhz.1970-02-07HR00_evid00014.csv', 'xa.s12.00.mhz.1970-02-18HR00_evid00016.csv', 'xa.s12.00.mhz.1970-03-14HR00_evid00018.csv', 'xa.s12.00.mhz.1970-03-30HR00_evid00020.csv', 'xa.s12.00.mhz.1970-04-03HR00_evid00021.csv', 'xa.s12.00.mhz.1970-05-20HR00_evid00026.csv', 'xa.s12.00.mhz.1970-05-23HR00_evid00027.csv', 'xa.s12.00.mhz.1970-05-24HR00_evid00028.csv', 'xa.s12.00.mhz.1970-05-25HR00_evid00029.csv', 'xa.s12.00.mhz.1970-06-19HR00_evid00031.csv', 'xa.s12.00.mhz.1970-07-17HR00_evid00035.csv', 'xa.s12.00.mhz.1970-07-18HR00_evid00036.csv', 'xa.s12.00.mhz.1970-07-20HR00_evid00037.csv', 'xa.s12.00.mhz.1970-07-27HR00_evid00039.csv', 'xa.s12.00.mhz.1970-09-09HR00_evid00043.csv', 'xa.s12.00.mhz.1970-10-26HR00_evid00049.csv', 'xa.s12.00.mhz.1970-11-03HR00_evid00050.csv', 'xa.s12.00.mhz.1970-11-03HR00_evid00051.csv', 'xa.s12.00.mhz.1971-01-03HR00_evid00057.csv', 'xa.s12.00.mhz.1971-01-05HR00_evid00059.csv', 'xa.s12.00.mhz.1971-01-17HR00_evid00060.csv', 'xa.s12.00.mhz.1971-03-15HR00_evid00073.csv', 'xa.s12.00.mhz.1971-04-08HR01_evid00083.csv', 'xa.s12.00.mhz.1971-05-22HR00_evid00092.csv', 'xa.s12.00.mhz.1971-06-11HR00_evid00096.csv', 'xa.s12.00.mhz.1971-06-27HR00_evid00101.csv', 'xa.s12.00.mhz.1971-10-06HR00_evid00124.csv', 'xa.s12.00.mhz.1971-10-06HR00_evid00125.csv', 'xa.s12.00.mhz.1971-10-26HR00_evid00133.csv', 'xa.s12.00.mhz.1971-11-24HR00_evid00156.csv', 'xa.s12.00.mhz.1972-01-26HR00_evid00186.csv', 'xa.s12.00.mhz.1972-02-21HR00_evid00190.csv', 'xa.s12.00.mhz.1972-02-28HR00_evid00192.csv', 'xa.s12.00.mhz.1972-05-15HR00_evid00223.csv', 'xa.s12.00.mhz.1972-05-19HR00_evid00228.csv', 'xa.s12.00.mhz.1972-11-14HR00_evid00331.csv', 'xa.s12.00.mhz.1972-11-19HR00_evid00335.csv', 'xa.s12.00.mhz.1972-12-02HR00_evid00341.csv', 'xa.s12.00.mhz.1972-12-06HR00_evid00342.csv', 'xa.s12.00.mhz.1972-12-15HR00_evid00349.csv', 'xa.s12.00.mhz.1973-03-12HR00_evid00384.csv', 'xa.s12.00.mhz.1973-04-23HR00_evid00399.csv', 'xa.s12.00.mhz.1973-08-08HR00_evid00437.csv', 'xa.s12.00.mhz.1973-10-03HR03_evid00461.csv', 'xa.s12.00.mhz.1973-10-10HR00_evid00463.csv', 'xa.s12.00.mhz.1973-11-22HR00_evid00475.csv', 'xa.s12.00.mhz.1974-03-14HR00_evid00506.csv', 'xa.s12.00.mhz.1974-03-30HR00_evid00512.csv', 'xa.s12.00.mhz.1974-05-09HR00_evid00522.csv', 'xa.s12.00.mhz.1974-06-30HR00_evid00543.csv', 'xa.s12.00.mhz.1974-07-25HR05_evid00553.csv', 'xa.s12.00.mhz.1974-10-02HR00_evid00572.csv', 'xa.s12.00.mhz.1975-04-21HR00_evid00638.csv', 'xa.s12.00.mhz.1975-05-16HR00_evid00651.csv', 'xa.s12.00.mhz.1975-05-20HR00_evid00652.csv', 'xa.s12.00.mhz.1975-06-15HR00_evid00660.csv', 'xa.s12.00.mhz.1975-06-17HR00_evid00662.csv', 'xa.s12.00.mhz.1977-04-11HR00_evid00915.csv', 'xa.s12.00.mhz.1977-04-24HR00_evid00923.csv', 'xa.s12.00.mhz.1977-04-26HR00_evid00924.csv', 'xa.s12.00.mhz.1977-07-19HR00_evid00991.csv', 'xa.s12.00.mhz.1977-09-13HR00_evid01012.csv']\n",
      "Number of events:  64\n",
      "Events Considered:  [0]\n"
     ]
    }
   ],
   "source": [
    "lunar_train_dir = r\"../../data/lunar/test/data/S12_GradeB/\"\n",
    "events = [file for file in os.listdir(lunar_train_dir) if file.endswith(\".csv\")]\n",
    "num_of_events = len(events)\n",
    "event = [i for i in range(1)]  # num_of_events\n",
    "print(\"Events: \", events)\n",
    "print(\"Number of events: \", num_of_events)\n",
    "print(\"Events Considered: \", event)"
   ]
  },
  {
   "cell_type": "markdown",
   "metadata": {},
   "source": [
    "## Data Preparation\n"
   ]
  },
  {
   "cell_type": "code",
   "execution_count": 4,
   "metadata": {},
   "outputs": [],
   "source": [
    "lens_array = []\n",
    "time_arrays = []\n",
    "data_arrays = []\n",
    "for file in events:\n",
    "    file = lunar_train_dir + file\n",
    "    df = pd.read_csv(file)\n",
    "\n",
    "    lens_array.append(len(df))\n",
    "\n",
    "    t = df[\"time_rel(sec)\"].values\n",
    "    time_arrays.append(t)\n",
    "\n",
    "    X = df[\"velocity(m/s)\"].values\n",
    "    X_standard = (X - np.mean(X)) / np.std(X)\n",
    "    data_arrays.append(X_standard)\n",
    "\n",
    "\n",
    "time_array = np.concatenate(time_arrays)\n",
    "time = pd.DataFrame(time_array, columns=[\"time_rel(sec)\"])\n",
    "\n",
    "data_array = np.concatenate(data_arrays)\n",
    "seismic_data = pd.DataFrame(data_array, columns=[\"velocity(m/s)\"])"
   ]
  },
  {
   "cell_type": "code",
   "execution_count": 5,
   "metadata": {},
   "outputs": [],
   "source": [
    "X_standard = seismic_data[\"velocity(m/s)\"].values\n",
    "X_standard = X_standard.astype(np.float32)  # To save memory"
   ]
  },
  {
   "cell_type": "code",
   "execution_count": 6,
   "metadata": {},
   "outputs": [],
   "source": [
    "windows_size = 16\n",
    "batch_size = 500\n",
    "\n",
    "# Create sequences for CNN\n",
    "windows = []\n",
    "for i in range(len(X_standard) - windows_size):\n",
    "    windows.append(X_standard[i : i + windows_size])\n",
    "\n",
    "windows = np.array(windows)"
   ]
  },
  {
   "cell_type": "code",
   "execution_count": 7,
   "metadata": {},
   "outputs": [
    {
     "name": "stdout",
     "output_type": "stream",
     "text": [
      "(36071381, 16)\n"
     ]
    }
   ],
   "source": [
    "print(windows.shape)"
   ]
  },
  {
   "cell_type": "code",
   "execution_count": 8,
   "metadata": {},
   "outputs": [
    {
     "name": "stdout",
     "output_type": "stream",
     "text": [
      "[0 0 0 ... 0 0 0]\n",
      "7241383\n",
      "11\n"
     ]
    }
   ],
   "source": [
    "threshold = np.max(X_standard) - 5 * np.std(X_standard)\n",
    "y = (X_standard[:-windows_size] >= threshold).astype(int)\n",
    "\n",
    "print(y)\n",
    "print(np.argmax(y))\n",
    "print(np.count_nonzero(y))"
   ]
  },
  {
   "cell_type": "code",
   "execution_count": 9,
   "metadata": {},
   "outputs": [
    {
     "name": "stdout",
     "output_type": "stream",
     "text": [
      "(36071381,)\n",
      "(36071381,)\n"
     ]
    }
   ],
   "source": [
    "print(np.array(X_standard[:-windows_size]).shape)\n",
    "print(y.shape)"
   ]
  },
  {
   "cell_type": "code",
   "execution_count": null,
   "metadata": {},
   "outputs": [],
   "source": [
    "# X_standard_reshaped = np.array(X_standard).reshape(-1, 572423, 1)\n",
    "windows = np.array(windows).reshape(-1, windows_size, 1)\n",
    "new_model.evaluate(windows, y, verbose=2)"
   ]
  },
  {
   "cell_type": "code",
   "execution_count": 145,
   "metadata": {},
   "outputs": [
    {
     "name": "stdout",
     "output_type": "stream",
     "text": [
      "17888/17888 [==============================] - 48s 3ms/step\n"
     ]
    }
   ],
   "source": [
    "reconstructed = new_model.predict(windows)"
   ]
  },
  {
   "cell_type": "code",
   "execution_count": 148,
   "metadata": {},
   "outputs": [
    {
     "name": "stdout",
     "output_type": "stream",
     "text": [
      "[0.00437047 0.00437047 0.00437047 ... 0.00437047 0.00437047 0.00437047]\n",
      "0.0043704696\n",
      "0\n",
      "0\n"
     ]
    }
   ],
   "source": [
    "mse = np.mean(np.power(windows[:, :, 0] - reconstructed, 2), axis=1)\n",
    "print(mse)\n",
    "print(np.max(mse))\n",
    "higher_quantile = np.quantile(np.abs(mse), 0.9999)\n",
    "\n",
    "\n",
    "# Set a threshold_mse for anomaly detection based on the reconstruction error\n",
    "anomalies_label = [1 if i > higher_quantile else 0 for i in mse]\n",
    "print(np.argmax(anomalies_label))\n",
    "print(np.count_nonzero(anomalies_label))"
   ]
  },
  {
   "cell_type": "code",
   "execution_count": 151,
   "metadata": {},
   "outputs": [
    {
     "name": "stdout",
     "output_type": "stream",
     "text": [
      "0\n"
     ]
    },
    {
     "data": {
      "image/png": "[encoded data removed]",
      "text/plain": [
       "<Figure size 1500x600 with 1 Axes>"
      ]
     },
     "metadata": {},
     "output_type": "display_data"
    }
   ],
   "source": [
    "plt.figure(figsize=(15, 6))\n",
    "\n",
    "\n",
    "plt.plot(\n",
    "    time,\n",
    "    X_standard,\n",
    "    label=\"Seismic Activity\",\n",
    "    color=\"blue\",\n",
    ")\n",
    "\n",
    "anomaly_indices = np.where(anomalies_label)[0]\n",
    "plt.scatter(\n",
    "    time[anomaly_indices + timesteps],\n",
    "    X_standard[anomaly_indices + timesteps],\n",
    "    color=\"red\",\n",
    "    label=\"Anomalies\",\n",
    "    marker=\"o\",\n",
    "    s=10,\n",
    "    zorder=2,\n",
    ")\n",
    "print(len(anomaly_indices))\n",
    "\n",
    "# arrival_line = plt.axvline(x=true_anomaly_time, c=\"red\", label=\"Rel. Arrival\")\n",
    "\n",
    "plt.title(\"Seismic Activity with Anomalies Highlighted\")\n",
    "plt.xlabel(\"Time (Relative Seconds)\")\n",
    "plt.ylabel(\"Normalised Velocity (m/s)\")\n",
    "plt.legend()\n",
    "\n",
    "plt.show()"
   ]
  },
  {
   "cell_type": "code",
   "execution_count": null,
   "metadata": {},
   "outputs": [],
   "source": []
  }
 ],
 "metadata": {
  "kernelspec": {
   "display_name": "Python 3",
   "language": "python",
   "name": "python3"
  },
  "language_info": {
   "codemirror_mode": {
    "name": "ipython",
    "version": 3
   },
   "file_extension": ".py",
   "mimetype": "text/x-python",
   "name": "python",
   "nbconvert_exporter": "python",
   "pygments_lexer": "ipython3",
   "version": "3.10.11"
  }
 },
 "nbformat": 4,
 "nbformat_minor": 2
}
