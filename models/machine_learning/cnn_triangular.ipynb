{
 "cells": [
  {
   "cell_type": "markdown",
   "metadata": {},
   "source": [
    "# Convolutional Neural Network - Triangular\n"
   ]
  },
  {
   "cell_type": "markdown",
   "metadata": {},
   "source": [
    "### Import Packages\n"
   ]
  },
  {
   "cell_type": "code",
   "execution_count": 1,
   "metadata": {},
   "outputs": [],
   "source": [
    "import os\n",
    "import pandas as pd\n",
    "import numpy as np\n",
    "import tensorflow as tf\n",
    "import matplotlib.pyplot as plt\n",
    "from keras.optimizers import Adam\n",
    "from tensorflow.keras.models import Sequential\n",
    "from tensorflow.keras import layers, models\n",
    "from tensorflow.keras.layers import Conv1D, MaxPooling1D, Flatten, Dense\n",
    "from tensorflow.keras.layers import UpSampling1D\n",
    "from tensorflow.keras.utils import Sequence\n",
    "from sklearn.metrics import confusion_matrix, ConfusionMatrixDisplay\n",
    "from scipy.stats import skew, kurtosis"
   ]
  },
  {
   "cell_type": "markdown",
   "metadata": {},
   "source": [
    "# Check If GPU Enabled\n",
    "Latest functioning version set as of October 6, 2024 according to https://www.tensorflow.org/install/source_windows is\n",
    "- Python 3.10.11\n",
    "- Tensorflow 2.10\n",
    "- CUDA Toolkit 11.2\n",
    "- CUDNN 8.1"
   ]
  },
  {
   "cell_type": "code",
   "execution_count": 2,
   "metadata": {},
   "outputs": [
    {
     "name": "stdout",
     "output_type": "stream",
     "text": [
      "Version:  2.17.0\n",
      "Num GPUs Available:  []\n",
      "TensorFlow is not using GPU\n"
     ]
    }
   ],
   "source": [
    "# tf.debugging.set_log_device_placement(True) # For Verbose Output\n",
    "print(\"Version: \", tf.__version__)\n",
    "\n",
    "\n",
    "print(\"Num GPUs Available: \", tf.config.list_physical_devices(\"GPU\"))\n",
    "\n",
    "\n",
    "gpus = tf.config.list_physical_devices(\"GPU\")\n",
    "if gpus:\n",
    "\n",
    "    print(\"TensorFlow is using GPU\")\n",
    "    for gpu in gpus:\n",
    "\n",
    "        print(gpu.name)\n",
    "else:\n",
    "\n",
    "    print(\"TensorFlow is not using GPU\")"
   ]
  },
  {
   "cell_type": "markdown",
   "metadata": {},
   "source": [
    "# Pick Datasets to Train\n"
   ]
  },
  {
   "cell_type": "code",
   "execution_count": 3,
   "metadata": {},
   "outputs": [
    {
     "name": "stdout",
     "output_type": "stream",
     "text": [
      "Number of events:  76\n"
     ]
    }
   ],
   "source": [
    "lunar_train_dir = r\"../../data/lunar/training/data/S12_GradeA\"\n",
    "num_of_events = len(\n",
    "    [file for file in os.listdir(lunar_train_dir) if file.endswith(\".csv\")]\n",
    ")\n",
    "print(\"Number of events: \", num_of_events)\n",
    "event = [i for i in range(5)]  # num_of_events"
   ]
  },
  {
   "cell_type": "markdown",
   "metadata": {},
   "source": [
    "# Import Catalog\n"
   ]
  },
  {
   "cell_type": "code",
   "execution_count": 4,
   "metadata": {},
   "outputs": [
    {
     "data": {
      "text/html": [
       "<div>\n",
       "<style scoped>\n",
       "    .dataframe tbody tr th:only-of-type {\n",
       "        vertical-align: middle;\n",
       "    }\n",
       "\n",
       "    .dataframe tbody tr th {\n",
       "        vertical-align: top;\n",
       "    }\n",
       "\n",
       "    .dataframe thead th {\n",
       "        text-align: right;\n",
       "    }\n",
       "</style>\n",
       "<table border=\"1\" class=\"dataframe\">\n",
       "  <thead>\n",
       "    <tr style=\"text-align: right;\">\n",
       "      <th></th>\n",
       "      <th>filename</th>\n",
       "      <th>time_abs(%Y-%m-%dT%H:%M:%S.%f)</th>\n",
       "      <th>time_rel(sec)</th>\n",
       "      <th>evid</th>\n",
       "      <th>mq_type</th>\n",
       "    </tr>\n",
       "  </thead>\n",
       "  <tbody>\n",
       "    <tr>\n",
       "      <th>0</th>\n",
       "      <td>xa.s12.00.mhz.1970-01-19HR00_evid00002</td>\n",
       "      <td>1970-01-19T20:25:00.000000</td>\n",
       "      <td>73500.0</td>\n",
       "      <td>evid00002</td>\n",
       "      <td>impact_mq</td>\n",
       "    </tr>\n",
       "    <tr>\n",
       "      <th>1</th>\n",
       "      <td>xa.s12.00.mhz.1970-03-25HR00_evid00003</td>\n",
       "      <td>1970-03-25T03:32:00.000000</td>\n",
       "      <td>12720.0</td>\n",
       "      <td>evid00003</td>\n",
       "      <td>impact_mq</td>\n",
       "    </tr>\n",
       "    <tr>\n",
       "      <th>2</th>\n",
       "      <td>xa.s12.00.mhz.1970-03-26HR00_evid00004</td>\n",
       "      <td>1970-03-26T20:17:00.000000</td>\n",
       "      <td>73020.0</td>\n",
       "      <td>evid00004</td>\n",
       "      <td>impact_mq</td>\n",
       "    </tr>\n",
       "    <tr>\n",
       "      <th>3</th>\n",
       "      <td>xa.s12.00.mhz.1970-04-25HR00_evid00006</td>\n",
       "      <td>1970-04-25T01:14:00.000000</td>\n",
       "      <td>4440.0</td>\n",
       "      <td>evid00006</td>\n",
       "      <td>impact_mq</td>\n",
       "    </tr>\n",
       "    <tr>\n",
       "      <th>4</th>\n",
       "      <td>xa.s12.00.mhz.1970-04-26HR00_evid00007</td>\n",
       "      <td>1970-04-26T14:29:00.000000</td>\n",
       "      <td>52140.0</td>\n",
       "      <td>evid00007</td>\n",
       "      <td>deep_mq</td>\n",
       "    </tr>\n",
       "    <tr>\n",
       "      <th>...</th>\n",
       "      <td>...</td>\n",
       "      <td>...</td>\n",
       "      <td>...</td>\n",
       "      <td>...</td>\n",
       "      <td>...</td>\n",
       "    </tr>\n",
       "    <tr>\n",
       "      <th>71</th>\n",
       "      <td>xa.s12.00.mhz.1974-10-14HR00_evid00156</td>\n",
       "      <td>1974-10-14T17:43:00.000000</td>\n",
       "      <td>63780.0</td>\n",
       "      <td>evid00156</td>\n",
       "      <td>impact_mq</td>\n",
       "    </tr>\n",
       "    <tr>\n",
       "      <th>72</th>\n",
       "      <td>xa.s12.00.mhz.1975-04-12HR00_evid00191</td>\n",
       "      <td>1975-04-12T18:15:00.000000</td>\n",
       "      <td>65700.0</td>\n",
       "      <td>evid00191</td>\n",
       "      <td>impact_mq</td>\n",
       "    </tr>\n",
       "    <tr>\n",
       "      <th>73</th>\n",
       "      <td>xa.s12.00.mhz.1975-05-04HR00_evid00192</td>\n",
       "      <td>1975-05-04T10:05:00.000000</td>\n",
       "      <td>36300.0</td>\n",
       "      <td>evid00192</td>\n",
       "      <td>impact_mq</td>\n",
       "    </tr>\n",
       "    <tr>\n",
       "      <th>74</th>\n",
       "      <td>xa.s12.00.mhz.1975-06-24HR00_evid00196</td>\n",
       "      <td>1975-06-24T16:03:00.000000</td>\n",
       "      <td>57780.0</td>\n",
       "      <td>evid00196</td>\n",
       "      <td>impact_mq</td>\n",
       "    </tr>\n",
       "    <tr>\n",
       "      <th>75</th>\n",
       "      <td>xa.s12.00.mhz.1975-06-26HR00_evid00198</td>\n",
       "      <td>1975-06-26T03:24:00.000000</td>\n",
       "      <td>12240.0</td>\n",
       "      <td>evid00198</td>\n",
       "      <td>impact_mq</td>\n",
       "    </tr>\n",
       "  </tbody>\n",
       "</table>\n",
       "<p>76 rows × 5 columns</p>\n",
       "</div>"
      ],
      "text/plain": [
       "                                  filename time_abs(%Y-%m-%dT%H:%M:%S.%f)  \\\n",
       "0   xa.s12.00.mhz.1970-01-19HR00_evid00002     1970-01-19T20:25:00.000000   \n",
       "1   xa.s12.00.mhz.1970-03-25HR00_evid00003     1970-03-25T03:32:00.000000   \n",
       "2   xa.s12.00.mhz.1970-03-26HR00_evid00004     1970-03-26T20:17:00.000000   \n",
       "3   xa.s12.00.mhz.1970-04-25HR00_evid00006     1970-04-25T01:14:00.000000   \n",
       "4   xa.s12.00.mhz.1970-04-26HR00_evid00007     1970-04-26T14:29:00.000000   \n",
       "..                                     ...                            ...   \n",
       "71  xa.s12.00.mhz.1974-10-14HR00_evid00156     1974-10-14T17:43:00.000000   \n",
       "72  xa.s12.00.mhz.1975-04-12HR00_evid00191     1975-04-12T18:15:00.000000   \n",
       "73  xa.s12.00.mhz.1975-05-04HR00_evid00192     1975-05-04T10:05:00.000000   \n",
       "74  xa.s12.00.mhz.1975-06-24HR00_evid00196     1975-06-24T16:03:00.000000   \n",
       "75  xa.s12.00.mhz.1975-06-26HR00_evid00198     1975-06-26T03:24:00.000000   \n",
       "\n",
       "    time_rel(sec)       evid    mq_type  \n",
       "0         73500.0  evid00002  impact_mq  \n",
       "1         12720.0  evid00003  impact_mq  \n",
       "2         73020.0  evid00004  impact_mq  \n",
       "3          4440.0  evid00006  impact_mq  \n",
       "4         52140.0  evid00007    deep_mq  \n",
       "..            ...        ...        ...  \n",
       "71        63780.0  evid00156  impact_mq  \n",
       "72        65700.0  evid00191  impact_mq  \n",
       "73        36300.0  evid00192  impact_mq  \n",
       "74        57780.0  evid00196  impact_mq  \n",
       "75        12240.0  evid00198  impact_mq  \n",
       "\n",
       "[76 rows x 5 columns]"
      ]
     },
     "execution_count": 4,
     "metadata": {},
     "output_type": "execute_result"
    }
   ],
   "source": [
    "catalog_path = r\"../../data/lunar/training/catalogs/apollo12_catalog_GradeA_final.csv\"\n",
    "catalog = pd.read_csv(catalog_path)\n",
    "catalog"
   ]
  },
  {
   "cell_type": "markdown",
   "metadata": {},
   "source": [
    "# Get Filename and Anomaly Position"
   ]
  },
  {
   "cell_type": "code",
   "execution_count": 5,
   "metadata": {},
   "outputs": [
    {
     "name": "stdout",
     "output_type": "stream",
     "text": [
      "Event Filenames: ['xa.s12.00.mhz.1970-01-19HR00_evid00002.csv', 'xa.s12.00.mhz.1970-03-25HR00_evid00003.csv', 'xa.s12.00.mhz.1970-03-26HR00_evid00004.csv', 'xa.s12.00.mhz.1970-04-25HR00_evid00006.csv', 'xa.s12.00.mhz.1970-04-26HR00_evid00007.csv']\n",
      "Anomaly Positions in Each File: [73500, 12720, 73020, 4440, 52140]\n"
     ]
    }
   ],
   "source": [
    "event_filename = [catalog[\"filename\"][i] + r\".csv\" for i in event]\n",
    "print(\"Event Filenames:\", event_filename)\n",
    "\n",
    "true_anomaly_time = [int(catalog[\"time_rel(sec)\"][i]) for i in event]\n",
    "print(\"Anomaly Positions in Each File:\", true_anomaly_time)"
   ]
  },
  {
   "cell_type": "markdown",
   "metadata": {},
   "source": [
    "## Load Lunar Training Data\n"
   ]
  },
  {
   "cell_type": "code",
   "execution_count": 6,
   "metadata": {},
   "outputs": [
    {
     "name": "stdout",
     "output_type": "stream",
     "text": [
      "['../../data/lunar/training/data/S12_GradeA\\\\xa.s12.00.mhz.1970-01-19HR00_evid00002.csv', '../../data/lunar/training/data/S12_GradeA\\\\xa.s12.00.mhz.1970-03-25HR00_evid00003.csv', '../../data/lunar/training/data/S12_GradeA\\\\xa.s12.00.mhz.1970-03-26HR00_evid00004.csv', '../../data/lunar/training/data/S12_GradeA\\\\xa.s12.00.mhz.1970-04-25HR00_evid00006.csv', '../../data/lunar/training/data/S12_GradeA\\\\xa.s12.00.mhz.1970-04-26HR00_evid00007.csv']\n"
     ]
    }
   ],
   "source": [
    "csv_files_path = r\"../../data/lunar/training/data/S12_GradeA\"\n",
    "csv_files = [os.path.join(csv_files_path, file) for file in event_filename]\n",
    "print(csv_files)"
   ]
  },
  {
   "cell_type": "markdown",
   "metadata": {},
   "source": [
    "# Get Length, Time, and Speed of Each Event\n",
    "Load all .csv's into one dataframe. Additionally, take the standard normal value of the velocity values, *i.e.*\n",
    "$$\n",
    "    X_{standard} = \\frac{X - \\mu_X}{\\sigma_X}.\n",
    "$$"
   ]
  },
  {
   "cell_type": "code",
   "execution_count": 7,
   "metadata": {},
   "outputs": [],
   "source": [
    "lens_array = []\n",
    "time_arrays = []\n",
    "data_arrays = []\n",
    "for file in csv_files:\n",
    "    df = pd.read_csv(file)\n",
    "\n",
    "    lens_array.append(len(df))\n",
    "\n",
    "    t = df[\"time_rel(sec)\"].values\n",
    "    time_arrays.append(t)\n",
    "\n",
    "    X = df[\"velocity(m/s)\"].values\n",
    "    X_standard = (X - np.mean(X)) / np.std(X)\n",
    "    data_arrays.append(X_standard)\n",
    "\n",
    "\n",
    "time_array = np.concatenate(time_arrays)\n",
    "time = pd.DataFrame(time_array, columns=[\"time_rel(sec)\"])\n",
    "\n",
    "data_array = np.concatenate(data_arrays)\n",
    "seismic_data = pd.DataFrame(data_array, columns=[\"velocity(m/s)\"])"
   ]
  },
  {
   "cell_type": "markdown",
   "metadata": {},
   "source": [
    "## Data Preparation\n"
   ]
  },
  {
   "cell_type": "code",
   "execution_count": 8,
   "metadata": {},
   "outputs": [],
   "source": [
    "X_standard = seismic_data[\"velocity(m/s)\"].values\n",
    "X_standard = X_standard.astype(np.float32)  # To save memory"
   ]
  },
  {
   "cell_type": "markdown",
   "metadata": {},
   "source": [
    "# Create Window Sequences"
   ]
  },
  {
   "cell_type": "code",
   "execution_count": 9,
   "metadata": {},
   "outputs": [],
   "source": [
    "windows_size = 16\n",
    "batch_size = 500\n",
    "\n",
    "# Create sequences for CNN\n",
    "windows = []\n",
    "for i in range(len(X_standard) - windows_size):\n",
    "    windows.append(X_standard[i : i + windows_size])\n",
    "\n",
    "windows = np.array(windows)"
   ]
  },
  {
   "cell_type": "code",
   "execution_count": 10,
   "metadata": {},
   "outputs": [
    {
     "name": "stdout",
     "output_type": "stream",
     "text": [
      "(2862047, 16)\n"
     ]
    }
   ],
   "source": [
    "print(windows.shape)"
   ]
  },
  {
   "cell_type": "markdown",
   "metadata": {},
   "source": [
    "# Get True Anomaly Labels\n",
    "\n",
    "Creates a triangular labelling, peaked at the true anomaly."
   ]
  },
  {
   "cell_type": "code",
   "execution_count": 12,
   "metadata": {},
   "outputs": [
    {
     "name": "stdout",
     "output_type": "stream",
     "text": [
      "True Anomaly Position: 73500\n"
     ]
    },
    {
     "data": {
      "text/plain": [
       "[<matplotlib.lines.Line2D at 0x187c9396b10>]"
      ]
     },
     "execution_count": 12,
     "metadata": {},
     "output_type": "execute_result"
    },
    {
     "data": {
      "image/png": "[encoded data removed]",
      "text/plain": [
       "<Figure size 640x480 with 1 Axes>"
      ]
     },
     "metadata": {},
     "output_type": "display_data"
    }
   ],
   "source": [
    "width = 20\n",
    "freq = 6.625\n",
    "sampling_freq = 1 / freq\n",
    "\n",
    "\n",
    "def proximity_list(length, true_anomaly_index):\n",
    "    proximity = np.zeros(length)  # Initialize list with zeros\n",
    "    max_distance = max(\n",
    "        true_anomaly_index, length - 1 - true_anomaly_index\n",
    "    )  # Max distance from certain_index to the start/end\n",
    "    for i in range(length):\n",
    "        # Calculate distance from the certain index\n",
    "        distance = abs(i - true_anomaly_index)\n",
    "        # Normalize the value so it peaks at 1 at the certain index and decreases symmetrically\n",
    "        proximity[i] = 1 - (distance / max_distance)\n",
    "    return proximity\n",
    "\n",
    "\n",
    "y = proximity_list(len(X_standard[windows_size:]), freq * true_anomaly_time[0])\n",
    "print(\"True Anomaly Position:\", true_anomaly_time[0])\n",
    "plt.plot(y)"
   ]
  },
  {
   "cell_type": "markdown",
   "metadata": {},
   "source": [
    "# Model Layers"
   ]
  },
  {
   "cell_type": "code",
   "execution_count": 18,
   "metadata": {},
   "outputs": [],
   "source": [
    "# Reshape your input data\n",
    "windows = np.array(windows).reshape(-1, windows_size, 1)\n",
    "\n",
    "# Create the CNN model\n",
    "model = models.Sequential()\n",
    "\n",
    "# Input Layer\n",
    "model.add(layers.Conv1D(windows_size, 3, input_shape=(windows_size, 1)))\n",
    "model.add(layers.BatchNormalization())\n",
    "model.add(layers.ReLU())\n",
    "model.add(layers.Dropout(0.5))\n",
    "\n",
    "# Down Sampling Layers\n",
    "model.add(layers.Conv1D(2 * windows_size, 3))\n",
    "model.add(layers.BatchNormalization())\n",
    "model.add(layers.ReLU())\n",
    "model.add(layers.Dropout(0.5))\n",
    "model.add(layers.MaxPooling1D(pool_size=2))\n",
    "\n",
    "model.add(layers.Conv1D(4 * windows_size, 3))\n",
    "model.add(layers.BatchNormalization())\n",
    "model.add(layers.ReLU())\n",
    "model.add(layers.Dropout(0.5))\n",
    "model.add(layers.MaxPooling1D(pool_size=2))  # 6\n",
    "\n",
    "# Up Sampling Layers\n",
    "model.add(layers.Conv1DTranspose(4 * windows_size, 3))\n",
    "model.add(layers.BatchNormalization())\n",
    "model.add(layers.ReLU())\n",
    "model.add(layers.Dropout(0.5))\n",
    "model.add(layers.UpSampling1D(size=2))\n",
    "\n",
    "model.add(layers.Conv1DTranspose(2 * windows_size, 1))\n",
    "model.add(layers.BatchNormalization())\n",
    "model.add(layers.ReLU())\n",
    "model.add(layers.Dropout(0.5))\n",
    "model.add(layers.UpSampling1D(size=2))\n",
    "\n",
    "# Output Layer\n",
    "model.add(Flatten())\n",
    "model.add(layers.Dense(1, activation=\"sigmoid\"))\n",
    "\n",
    "\n",
    "# Compile the model\n",
    "# optimizer = Adam(learning_rate=0.1)\n",
    "model.compile(\n",
    "    optimizer=\"adam\",\n",
    "    loss=tf.keras.losses.BinaryCrossentropy(label_smoothing=0.05),\n",
    "    metrics=[\"accuracy\"],\n",
    ")"
   ]
  },
  {
   "cell_type": "markdown",
   "metadata": {},
   "source": [
    "# Train the Autoencoder using Real Data Only"
   ]
  },
  {
   "cell_type": "code",
   "execution_count": 19,
   "metadata": {},
   "outputs": [
    {
     "name": "stdout",
     "output_type": "stream",
     "text": [
      "Epoch 1/2\n",
      "  25/5725 [..............................] - ETA: 38:19 - loss: 0.7408 - accuracy: 0.5322"
     ]
    },
    {
     "ename": "KeyboardInterrupt",
     "evalue": "",
     "output_type": "error",
     "traceback": [
      "\u001b[1;31m---------------------------------------------------------------------------\u001b[0m",
      "\u001b[1;31mKeyboardInterrupt\u001b[0m                         Traceback (most recent call last)",
      "Cell \u001b[1;32mIn[19], line 1\u001b[0m\n\u001b[1;32m----> 1\u001b[0m history \u001b[38;5;241m=\u001b[39m \u001b[43mmodel\u001b[49m\u001b[38;5;241;43m.\u001b[39;49m\u001b[43mfit\u001b[49m\u001b[43m(\u001b[49m\u001b[43mwindows\u001b[49m\u001b[43m,\u001b[49m\u001b[43m \u001b[49m\u001b[43my\u001b[49m\u001b[43m,\u001b[49m\u001b[43m \u001b[49m\u001b[43mepochs\u001b[49m\u001b[38;5;241;43m=\u001b[39;49m\u001b[38;5;241;43m2\u001b[39;49m\u001b[43m,\u001b[49m\u001b[43m \u001b[49m\u001b[43mbatch_size\u001b[49m\u001b[38;5;241;43m=\u001b[39;49m\u001b[43mbatch_size\u001b[49m\u001b[43m)\u001b[49m\n",
      "File \u001b[1;32mc:\\Users\\God\\AppData\\Local\\Programs\\Python\\Python310\\lib\\site-packages\\keras\\utils\\traceback_utils.py:65\u001b[0m, in \u001b[0;36mfilter_traceback.<locals>.error_handler\u001b[1;34m(*args, **kwargs)\u001b[0m\n\u001b[0;32m     63\u001b[0m filtered_tb \u001b[38;5;241m=\u001b[39m \u001b[38;5;28;01mNone\u001b[39;00m\n\u001b[0;32m     64\u001b[0m \u001b[38;5;28;01mtry\u001b[39;00m:\n\u001b[1;32m---> 65\u001b[0m     \u001b[38;5;28;01mreturn\u001b[39;00m fn(\u001b[38;5;241m*\u001b[39margs, \u001b[38;5;241m*\u001b[39m\u001b[38;5;241m*\u001b[39mkwargs)\n\u001b[0;32m     66\u001b[0m \u001b[38;5;28;01mexcept\u001b[39;00m \u001b[38;5;167;01mException\u001b[39;00m \u001b[38;5;28;01mas\u001b[39;00m e:\n\u001b[0;32m     67\u001b[0m     filtered_tb \u001b[38;5;241m=\u001b[39m _process_traceback_frames(e\u001b[38;5;241m.\u001b[39m__traceback__)\n",
      "File \u001b[1;32mc:\\Users\\God\\AppData\\Local\\Programs\\Python\\Python310\\lib\\site-packages\\keras\\engine\\training.py:1564\u001b[0m, in \u001b[0;36mModel.fit\u001b[1;34m(self, x, y, batch_size, epochs, verbose, callbacks, validation_split, validation_data, shuffle, class_weight, sample_weight, initial_epoch, steps_per_epoch, validation_steps, validation_batch_size, validation_freq, max_queue_size, workers, use_multiprocessing)\u001b[0m\n\u001b[0;32m   1556\u001b[0m \u001b[38;5;28;01mwith\u001b[39;00m tf\u001b[38;5;241m.\u001b[39mprofiler\u001b[38;5;241m.\u001b[39mexperimental\u001b[38;5;241m.\u001b[39mTrace(\n\u001b[0;32m   1557\u001b[0m     \u001b[38;5;124m\"\u001b[39m\u001b[38;5;124mtrain\u001b[39m\u001b[38;5;124m\"\u001b[39m,\n\u001b[0;32m   1558\u001b[0m     epoch_num\u001b[38;5;241m=\u001b[39mepoch,\n\u001b[1;32m   (...)\u001b[0m\n\u001b[0;32m   1561\u001b[0m     _r\u001b[38;5;241m=\u001b[39m\u001b[38;5;241m1\u001b[39m,\n\u001b[0;32m   1562\u001b[0m ):\n\u001b[0;32m   1563\u001b[0m     callbacks\u001b[38;5;241m.\u001b[39mon_train_batch_begin(step)\n\u001b[1;32m-> 1564\u001b[0m     tmp_logs \u001b[38;5;241m=\u001b[39m \u001b[38;5;28;43mself\u001b[39;49m\u001b[38;5;241;43m.\u001b[39;49m\u001b[43mtrain_function\u001b[49m\u001b[43m(\u001b[49m\u001b[43miterator\u001b[49m\u001b[43m)\u001b[49m\n\u001b[0;32m   1565\u001b[0m     \u001b[38;5;28;01mif\u001b[39;00m data_handler\u001b[38;5;241m.\u001b[39mshould_sync:\n\u001b[0;32m   1566\u001b[0m         context\u001b[38;5;241m.\u001b[39masync_wait()\n",
      "File \u001b[1;32m~\\AppData\\Roaming\\Python\\Python310\\site-packages\\tensorflow\\python\\util\\traceback_utils.py:150\u001b[0m, in \u001b[0;36mfilter_traceback.<locals>.error_handler\u001b[1;34m(*args, **kwargs)\u001b[0m\n\u001b[0;32m    148\u001b[0m filtered_tb \u001b[38;5;241m=\u001b[39m \u001b[38;5;28;01mNone\u001b[39;00m\n\u001b[0;32m    149\u001b[0m \u001b[38;5;28;01mtry\u001b[39;00m:\n\u001b[1;32m--> 150\u001b[0m   \u001b[38;5;28;01mreturn\u001b[39;00m fn(\u001b[38;5;241m*\u001b[39margs, \u001b[38;5;241m*\u001b[39m\u001b[38;5;241m*\u001b[39mkwargs)\n\u001b[0;32m    151\u001b[0m \u001b[38;5;28;01mexcept\u001b[39;00m \u001b[38;5;167;01mException\u001b[39;00m \u001b[38;5;28;01mas\u001b[39;00m e:\n\u001b[0;32m    152\u001b[0m   filtered_tb \u001b[38;5;241m=\u001b[39m _process_traceback_frames(e\u001b[38;5;241m.\u001b[39m__traceback__)\n",
      "File \u001b[1;32m~\\AppData\\Roaming\\Python\\Python310\\site-packages\\tensorflow\\python\\eager\\def_function.py:915\u001b[0m, in \u001b[0;36mFunction.__call__\u001b[1;34m(self, *args, **kwds)\u001b[0m\n\u001b[0;32m    912\u001b[0m compiler \u001b[38;5;241m=\u001b[39m \u001b[38;5;124m\"\u001b[39m\u001b[38;5;124mxla\u001b[39m\u001b[38;5;124m\"\u001b[39m \u001b[38;5;28;01mif\u001b[39;00m \u001b[38;5;28mself\u001b[39m\u001b[38;5;241m.\u001b[39m_jit_compile \u001b[38;5;28;01melse\u001b[39;00m \u001b[38;5;124m\"\u001b[39m\u001b[38;5;124mnonXla\u001b[39m\u001b[38;5;124m\"\u001b[39m\n\u001b[0;32m    914\u001b[0m \u001b[38;5;28;01mwith\u001b[39;00m OptionalXlaContext(\u001b[38;5;28mself\u001b[39m\u001b[38;5;241m.\u001b[39m_jit_compile):\n\u001b[1;32m--> 915\u001b[0m   result \u001b[38;5;241m=\u001b[39m \u001b[38;5;28mself\u001b[39m\u001b[38;5;241m.\u001b[39m_call(\u001b[38;5;241m*\u001b[39margs, \u001b[38;5;241m*\u001b[39m\u001b[38;5;241m*\u001b[39mkwds)\n\u001b[0;32m    917\u001b[0m new_tracing_count \u001b[38;5;241m=\u001b[39m \u001b[38;5;28mself\u001b[39m\u001b[38;5;241m.\u001b[39mexperimental_get_tracing_count()\n\u001b[0;32m    918\u001b[0m without_tracing \u001b[38;5;241m=\u001b[39m (tracing_count \u001b[38;5;241m==\u001b[39m new_tracing_count)\n",
      "File \u001b[1;32m~\\AppData\\Roaming\\Python\\Python310\\site-packages\\tensorflow\\python\\eager\\def_function.py:947\u001b[0m, in \u001b[0;36mFunction._call\u001b[1;34m(self, *args, **kwds)\u001b[0m\n\u001b[0;32m    944\u001b[0m   \u001b[38;5;28mself\u001b[39m\u001b[38;5;241m.\u001b[39m_lock\u001b[38;5;241m.\u001b[39mrelease()\n\u001b[0;32m    945\u001b[0m   \u001b[38;5;66;03m# In this case we have created variables on the first call, so we run the\u001b[39;00m\n\u001b[0;32m    946\u001b[0m   \u001b[38;5;66;03m# defunned version which is guaranteed to never create variables.\u001b[39;00m\n\u001b[1;32m--> 947\u001b[0m   \u001b[38;5;28;01mreturn\u001b[39;00m \u001b[38;5;28mself\u001b[39m\u001b[38;5;241m.\u001b[39m_stateless_fn(\u001b[38;5;241m*\u001b[39margs, \u001b[38;5;241m*\u001b[39m\u001b[38;5;241m*\u001b[39mkwds)  \u001b[38;5;66;03m# pylint: disable=not-callable\u001b[39;00m\n\u001b[0;32m    948\u001b[0m \u001b[38;5;28;01melif\u001b[39;00m \u001b[38;5;28mself\u001b[39m\u001b[38;5;241m.\u001b[39m_stateful_fn \u001b[38;5;129;01mis\u001b[39;00m \u001b[38;5;129;01mnot\u001b[39;00m \u001b[38;5;28;01mNone\u001b[39;00m:\n\u001b[0;32m    949\u001b[0m   \u001b[38;5;66;03m# Release the lock early so that multiple threads can perform the call\u001b[39;00m\n\u001b[0;32m    950\u001b[0m   \u001b[38;5;66;03m# in parallel.\u001b[39;00m\n\u001b[0;32m    951\u001b[0m   \u001b[38;5;28mself\u001b[39m\u001b[38;5;241m.\u001b[39m_lock\u001b[38;5;241m.\u001b[39mrelease()\n",
      "File \u001b[1;32m~\\AppData\\Roaming\\Python\\Python310\\site-packages\\tensorflow\\python\\eager\\function.py:2496\u001b[0m, in \u001b[0;36mFunction.__call__\u001b[1;34m(self, *args, **kwargs)\u001b[0m\n\u001b[0;32m   2493\u001b[0m \u001b[38;5;28;01mwith\u001b[39;00m \u001b[38;5;28mself\u001b[39m\u001b[38;5;241m.\u001b[39m_lock:\n\u001b[0;32m   2494\u001b[0m   (graph_function,\n\u001b[0;32m   2495\u001b[0m    filtered_flat_args) \u001b[38;5;241m=\u001b[39m \u001b[38;5;28mself\u001b[39m\u001b[38;5;241m.\u001b[39m_maybe_define_function(args, kwargs)\n\u001b[1;32m-> 2496\u001b[0m \u001b[38;5;28;01mreturn\u001b[39;00m \u001b[43mgraph_function\u001b[49m\u001b[38;5;241;43m.\u001b[39;49m\u001b[43m_call_flat\u001b[49m\u001b[43m(\u001b[49m\n\u001b[0;32m   2497\u001b[0m \u001b[43m    \u001b[49m\u001b[43mfiltered_flat_args\u001b[49m\u001b[43m,\u001b[49m\u001b[43m \u001b[49m\u001b[43mcaptured_inputs\u001b[49m\u001b[38;5;241;43m=\u001b[39;49m\u001b[43mgraph_function\u001b[49m\u001b[38;5;241;43m.\u001b[39;49m\u001b[43mcaptured_inputs\u001b[49m\u001b[43m)\u001b[49m\n",
      "File \u001b[1;32m~\\AppData\\Roaming\\Python\\Python310\\site-packages\\tensorflow\\python\\eager\\function.py:1862\u001b[0m, in \u001b[0;36mConcreteFunction._call_flat\u001b[1;34m(self, args, captured_inputs, cancellation_manager)\u001b[0m\n\u001b[0;32m   1858\u001b[0m possible_gradient_type \u001b[38;5;241m=\u001b[39m gradients_util\u001b[38;5;241m.\u001b[39mPossibleTapeGradientTypes(args)\n\u001b[0;32m   1859\u001b[0m \u001b[38;5;28;01mif\u001b[39;00m (possible_gradient_type \u001b[38;5;241m==\u001b[39m gradients_util\u001b[38;5;241m.\u001b[39mPOSSIBLE_GRADIENT_TYPES_NONE\n\u001b[0;32m   1860\u001b[0m     \u001b[38;5;129;01mand\u001b[39;00m executing_eagerly):\n\u001b[0;32m   1861\u001b[0m   \u001b[38;5;66;03m# No tape is watching; skip to running the function.\u001b[39;00m\n\u001b[1;32m-> 1862\u001b[0m   \u001b[38;5;28;01mreturn\u001b[39;00m \u001b[38;5;28mself\u001b[39m\u001b[38;5;241m.\u001b[39m_build_call_outputs(\u001b[38;5;28;43mself\u001b[39;49m\u001b[38;5;241;43m.\u001b[39;49m\u001b[43m_inference_function\u001b[49m\u001b[38;5;241;43m.\u001b[39;49m\u001b[43mcall\u001b[49m\u001b[43m(\u001b[49m\n\u001b[0;32m   1863\u001b[0m \u001b[43m      \u001b[49m\u001b[43mctx\u001b[49m\u001b[43m,\u001b[49m\u001b[43m \u001b[49m\u001b[43margs\u001b[49m\u001b[43m,\u001b[49m\u001b[43m \u001b[49m\u001b[43mcancellation_manager\u001b[49m\u001b[38;5;241;43m=\u001b[39;49m\u001b[43mcancellation_manager\u001b[49m\u001b[43m)\u001b[49m)\n\u001b[0;32m   1864\u001b[0m forward_backward \u001b[38;5;241m=\u001b[39m \u001b[38;5;28mself\u001b[39m\u001b[38;5;241m.\u001b[39m_select_forward_and_backward_functions(\n\u001b[0;32m   1865\u001b[0m     args,\n\u001b[0;32m   1866\u001b[0m     possible_gradient_type,\n\u001b[0;32m   1867\u001b[0m     executing_eagerly)\n\u001b[0;32m   1868\u001b[0m forward_function, args_with_tangents \u001b[38;5;241m=\u001b[39m forward_backward\u001b[38;5;241m.\u001b[39mforward()\n",
      "File \u001b[1;32m~\\AppData\\Roaming\\Python\\Python310\\site-packages\\tensorflow\\python\\eager\\function.py:499\u001b[0m, in \u001b[0;36m_EagerDefinedFunction.call\u001b[1;34m(self, ctx, args, cancellation_manager)\u001b[0m\n\u001b[0;32m    497\u001b[0m \u001b[38;5;28;01mwith\u001b[39;00m _InterpolateFunctionError(\u001b[38;5;28mself\u001b[39m):\n\u001b[0;32m    498\u001b[0m   \u001b[38;5;28;01mif\u001b[39;00m cancellation_manager \u001b[38;5;129;01mis\u001b[39;00m \u001b[38;5;28;01mNone\u001b[39;00m:\n\u001b[1;32m--> 499\u001b[0m     outputs \u001b[38;5;241m=\u001b[39m \u001b[43mexecute\u001b[49m\u001b[38;5;241;43m.\u001b[39;49m\u001b[43mexecute\u001b[49m\u001b[43m(\u001b[49m\n\u001b[0;32m    500\u001b[0m \u001b[43m        \u001b[49m\u001b[38;5;28;43mstr\u001b[39;49m\u001b[43m(\u001b[49m\u001b[38;5;28;43mself\u001b[39;49m\u001b[38;5;241;43m.\u001b[39;49m\u001b[43msignature\u001b[49m\u001b[38;5;241;43m.\u001b[39;49m\u001b[43mname\u001b[49m\u001b[43m)\u001b[49m\u001b[43m,\u001b[49m\n\u001b[0;32m    501\u001b[0m \u001b[43m        \u001b[49m\u001b[43mnum_outputs\u001b[49m\u001b[38;5;241;43m=\u001b[39;49m\u001b[38;5;28;43mself\u001b[39;49m\u001b[38;5;241;43m.\u001b[39;49m\u001b[43m_num_outputs\u001b[49m\u001b[43m,\u001b[49m\n\u001b[0;32m    502\u001b[0m \u001b[43m        \u001b[49m\u001b[43minputs\u001b[49m\u001b[38;5;241;43m=\u001b[39;49m\u001b[43margs\u001b[49m\u001b[43m,\u001b[49m\n\u001b[0;32m    503\u001b[0m \u001b[43m        \u001b[49m\u001b[43mattrs\u001b[49m\u001b[38;5;241;43m=\u001b[39;49m\u001b[43mattrs\u001b[49m\u001b[43m,\u001b[49m\n\u001b[0;32m    504\u001b[0m \u001b[43m        \u001b[49m\u001b[43mctx\u001b[49m\u001b[38;5;241;43m=\u001b[39;49m\u001b[43mctx\u001b[49m\u001b[43m)\u001b[49m\n\u001b[0;32m    505\u001b[0m   \u001b[38;5;28;01melse\u001b[39;00m:\n\u001b[0;32m    506\u001b[0m     outputs \u001b[38;5;241m=\u001b[39m execute\u001b[38;5;241m.\u001b[39mexecute_with_cancellation(\n\u001b[0;32m    507\u001b[0m         \u001b[38;5;28mstr\u001b[39m(\u001b[38;5;28mself\u001b[39m\u001b[38;5;241m.\u001b[39msignature\u001b[38;5;241m.\u001b[39mname),\n\u001b[0;32m    508\u001b[0m         num_outputs\u001b[38;5;241m=\u001b[39m\u001b[38;5;28mself\u001b[39m\u001b[38;5;241m.\u001b[39m_num_outputs,\n\u001b[1;32m   (...)\u001b[0m\n\u001b[0;32m    511\u001b[0m         ctx\u001b[38;5;241m=\u001b[39mctx,\n\u001b[0;32m    512\u001b[0m         cancellation_manager\u001b[38;5;241m=\u001b[39mcancellation_manager)\n",
      "File \u001b[1;32m~\\AppData\\Roaming\\Python\\Python310\\site-packages\\tensorflow\\python\\eager\\execute.py:54\u001b[0m, in \u001b[0;36mquick_execute\u001b[1;34m(op_name, num_outputs, inputs, attrs, ctx, name)\u001b[0m\n\u001b[0;32m     52\u001b[0m \u001b[38;5;28;01mtry\u001b[39;00m:\n\u001b[0;32m     53\u001b[0m   ctx\u001b[38;5;241m.\u001b[39mensure_initialized()\n\u001b[1;32m---> 54\u001b[0m   tensors \u001b[38;5;241m=\u001b[39m \u001b[43mpywrap_tfe\u001b[49m\u001b[38;5;241;43m.\u001b[39;49m\u001b[43mTFE_Py_Execute\u001b[49m\u001b[43m(\u001b[49m\u001b[43mctx\u001b[49m\u001b[38;5;241;43m.\u001b[39;49m\u001b[43m_handle\u001b[49m\u001b[43m,\u001b[49m\u001b[43m \u001b[49m\u001b[43mdevice_name\u001b[49m\u001b[43m,\u001b[49m\u001b[43m \u001b[49m\u001b[43mop_name\u001b[49m\u001b[43m,\u001b[49m\n\u001b[0;32m     55\u001b[0m \u001b[43m                                      \u001b[49m\u001b[43minputs\u001b[49m\u001b[43m,\u001b[49m\u001b[43m \u001b[49m\u001b[43mattrs\u001b[49m\u001b[43m,\u001b[49m\u001b[43m \u001b[49m\u001b[43mnum_outputs\u001b[49m\u001b[43m)\u001b[49m\n\u001b[0;32m     56\u001b[0m \u001b[38;5;28;01mexcept\u001b[39;00m core\u001b[38;5;241m.\u001b[39m_NotOkStatusException \u001b[38;5;28;01mas\u001b[39;00m e:\n\u001b[0;32m     57\u001b[0m   \u001b[38;5;28;01mif\u001b[39;00m name \u001b[38;5;129;01mis\u001b[39;00m \u001b[38;5;129;01mnot\u001b[39;00m \u001b[38;5;28;01mNone\u001b[39;00m:\n",
      "\u001b[1;31mKeyboardInterrupt\u001b[0m: "
     ]
    }
   ],
   "source": [
    "history = model.fit(windows, y, epochs=2, batch_size=batch_size)"
   ]
  },
  {
   "cell_type": "markdown",
   "metadata": {},
   "source": [
    "# Plot the Accuracy Change Over Epochs"
   ]
  },
  {
   "cell_type": "code",
   "execution_count": 16,
   "metadata": {},
   "outputs": [],
   "source": [
    "plt.plot(history.history[\"accuracy\"])\n",
    "plt.title(\"model accuracy\")\n",
    "plt.ylabel(\"accuracy\")\n",
    "plt.xlabel(\"epoch\")\n",
    "plt.show()"
   ]
  },
  {
   "cell_type": "markdown",
   "metadata": {},
   "source": [
    "# Plot the Model Change Over Epochs"
   ]
  },
  {
   "cell_type": "code",
   "execution_count": 20,
   "metadata": {},
   "outputs": [
    {
     "data": {
      "image/png": "[encoded data removed]",
      "text/plain": [
       "<Figure size 640x480 with 1 Axes>"
      ]
     },
     "metadata": {},
     "output_type": "display_data"
    }
   ],
   "source": [
    "plt.plot(history.history[\"loss\"])\n",
    "plt.title(\"model loss\")\n",
    "plt.ylabel(\"loss\")\n",
    "plt.xlabel(\"epoch\")\n",
    "plt.show()"
   ]
  },
  {
   "cell_type": "markdown",
   "metadata": {},
   "source": [
    "# Predict/Detect Anomalies\n",
    "Calculate the reconstruction error on new data."
   ]
  },
  {
   "cell_type": "code",
   "execution_count": 21,
   "metadata": {},
   "outputs": [
    {
     "name": "stdout",
     "output_type": "stream",
     "text": [
      "89439/89439 [==============================] - 206s 2ms/step\n"
     ]
    }
   ],
   "source": [
    "reconstructed = model.predict(windows)"
   ]
  },
  {
   "cell_type": "code",
   "execution_count": 22,
   "metadata": {},
   "outputs": [
    {
     "name": "stdout",
     "output_type": "stream",
     "text": [
      "[[0.25910482]\n",
      " [0.25914663]\n",
      " [0.25918463]\n",
      " ...\n",
      " [0.25901157]\n",
      " [0.2590108 ]\n",
      " [0.25900993]]\n",
      "(2862047, 1)\n",
      "(2862047,)\n",
      "0.9889641\n",
      "0.24874395\n",
      "(2862047, 16, 1)\n"
     ]
    }
   ],
   "source": [
    "print(\"Reconstructed Shape:\", reconstructed.shape)\n",
    "print(\"Windows Shape:\", windows.shape)"
   ]
  },
  {
   "cell_type": "markdown",
   "metadata": {},
   "source": [
    "# Calculate Mean Squared Error (MSE)"
   ]
  },
  {
   "cell_type": "code",
   "execution_count": 23,
   "metadata": {},
   "outputs": [
    {
     "name": "stdout",
     "output_type": "stream",
     "text": [
      "[0.06594677 0.06596011 0.06596987 ... 0.06589437 0.06589393 0.0658935 ]\n",
      "191.31693\n",
      "0.0017533622\n",
      "487623\n",
      "2863\n"
     ]
    }
   ],
   "source": [
    "mse = np.mean(np.power(windows[:, :, 0] - reconstructed, 2), axis=1)\n",
    "print(\"MSE Shape:\", mse.shape)"
   ]
  },
  {
   "cell_type": "markdown",
   "metadata": {},
   "source": [
    "# Set a Threshold for Anomaly Detection Based on the MSE Quantile Values"
   ]
  },
  {
   "cell_type": "code",
   "execution_count": null,
   "metadata": {},
   "outputs": [],
   "source": [
    "high1 = np.quantile(np.abs(mse), 0.999)\n",
    "# high2 = np.quantile(np.abs(mse), 0.9951)\n",
    "anomalies_label = [1 if i > high1 else 0 for i in mse]\n",
    "print(\"Predicted Anomaly Position:\", np.argmax(anomalies_label))\n",
    "print(\n",
    "    \"Predicted Number of Anomalies:\",\n",
    "    np.count_nonzero(anomalies_label),\n",
    "    \"(depends directly on the quantile range)\",\n",
    ")"
   ]
  },
  {
   "cell_type": "markdown",
   "metadata": {},
   "source": [
    "# Plot the Seismic Data and Scatterplot of the Predicted Data of Every Event Input"
   ]
  },
  {
   "cell_type": "code",
   "execution_count": 35,
   "metadata": {},
   "outputs": [
    {
     "name": "stdout",
     "output_type": "stream",
     "text": [
      "572415\n"
     ]
    },
    {
     "ename": "TypeError",
     "evalue": "'numpy.int64' object is not iterable",
     "output_type": "error",
     "traceback": [
      "\u001b[1;31m---------------------------------------------------------------------------\u001b[0m",
      "\u001b[1;31mTypeError\u001b[0m                                 Traceback (most recent call last)",
      "Cell \u001b[1;32mIn[35], line 29\u001b[0m\n\u001b[0;32m     21\u001b[0m plt\u001b[38;5;241m.\u001b[39mplot(\n\u001b[0;32m     22\u001b[0m     tiempo,\n\u001b[0;32m     23\u001b[0m     X,\n\u001b[0;32m     24\u001b[0m     label\u001b[38;5;241m=\u001b[39m\u001b[38;5;124m\"\u001b[39m\u001b[38;5;124mSeismic Activity\u001b[39m\u001b[38;5;124m\"\u001b[39m,\n\u001b[0;32m     25\u001b[0m     color\u001b[38;5;241m=\u001b[39mcolors,\n\u001b[0;32m     26\u001b[0m )\n\u001b[0;32m     28\u001b[0m anomaly_indices \u001b[38;5;241m=\u001b[39m np\u001b[38;5;241m.\u001b[39mwhere(anomalies_label)[i][\u001b[38;5;241m0\u001b[39m]\n\u001b[1;32m---> 29\u001b[0m indices \u001b[38;5;241m=\u001b[39m np\u001b[38;5;241m.\u001b[39marray([j \u001b[38;5;28;01mfor\u001b[39;00m j \u001b[38;5;129;01min\u001b[39;00m anomaly_indices \u001b[38;5;28;01mif\u001b[39;00m j \u001b[38;5;241m<\u001b[39m\u001b[38;5;241m=\u001b[39m length])\n\u001b[0;32m     31\u001b[0m indices \u001b[38;5;241m=\u001b[39m indices\u001b[38;5;241m.\u001b[39mastype(\u001b[38;5;28mint\u001b[39m)  \u001b[38;5;66;03m# Ensure indices are integers\u001b[39;00m\n\u001b[0;32m     32\u001b[0m \u001b[38;5;28mprint\u001b[39m(indices)\n",
      "\u001b[1;31mTypeError\u001b[0m: 'numpy.int64' object is not iterable"
     ]
    },
    {
     "data": {
      "image/png": "[encoded data removed]",
      "text/plain": [
       "<Figure size 1000x600 with 1 Axes>"
      ]
     },
     "metadata": {},
     "output_type": "display_data"
    }
   ],
   "source": [
    "for i in event:\n",
    "    length = lens_array[i]\n",
    "    print(length)\n",
    "    tiempo = time_array[i]\n",
    "    X = data_arrays[i]\n",
    "    colors = [\n",
    "        \"red\",\n",
    "        \"green\",\n",
    "        \"blue\",\n",
    "        \"orange\",\n",
    "        \"purple\",\n",
    "        \"brown\",\n",
    "        \"pink\",\n",
    "        \"gray\",\n",
    "        \"olive\",\n",
    "        \"cyan\",\n",
    "    ][i]\n",
    "\n",
    "    plt.figure(figsize=(10, 6))\n",
    "\n",
    "    plt.plot(\n",
    "        tiempo,\n",
    "        X,\n",
    "        label=\"Seismic Activity\",\n",
    "        color=colors,\n",
    "    )\n",
    "\n",
    "    anomaly_indices = np.where(anomalies_label)[i][0]\n",
    "    indices = np.array([])\n",
    "    for j in anomaly_indices:\n",
    "        if j <= length:\n",
    "            indices = np.append(indices, j)\n",
    "\n",
    "    indices = indices.astype(int)  # Ensure indices are integers\n",
    "    print(indices)\n",
    "\n",
    "    arrival_line = plt.axvline(\n",
    "        x=true_anomaly_time[i], c=\"green\", label=\"True Arrival Time\"\n",
    "    )\n",
    "    arrival_line = plt.axvline(\n",
    "        x=indices[0] / 6.625,\n",
    "        c=\"blue\",\n",
    "        label=\"Predicted Arrival Time\",\n",
    "    )\n",
    "\n",
    "    plt.scatter(\n",
    "        time[indices + windows_size],\n",
    "        X_standard[indices + windows_size],\n",
    "        color=\"k\",\n",
    "        label=\"Anomalies\",\n",
    "        marker=\"o\",\n",
    "        s=1,\n",
    "        zorder=2,\n",
    "    )\n",
    "    plt.title(f\"Seismic Activity for Event {i}\")\n",
    "    plt.xlabel(\"Time (Relative Seconds)\")\n",
    "    plt.ylabel(\"Normalized Velocity (m/s)\")\n",
    "    plt.legend()\n",
    "    plt.show()  # Show the plot for the current event"
   ]
  },
  {
   "cell_type": "markdown",
   "metadata": {},
   "source": [
    "# EXTRA: Confusion Matrix\n",
    "Not really valid..."
   ]
  },
  {
   "cell_type": "code",
   "execution_count": 28,
   "metadata": {},
   "outputs": [
    {
     "data": {
      "image/png": "[encoded data removed]",
      "text/plain": [
       "<Figure size 640x480 with 2 Axes>"
      ]
     },
     "metadata": {},
     "output_type": "display_data"
    }
   ],
   "source": [
    "conf_matrix = confusion_matrix(y, anomalies_label)\n",
    "\n",
    "display = ConfusionMatrixDisplay(\n",
    "    confusion_matrix=conf_matrix, display_labels=[\"Normal\", \"Anomaly\"]\n",
    ")\n",
    "\n",
    "display.plot(cmap=plt.cm.Blues)\n",
    "plt.title(\"Confusion Matrix for Anomaly Detection\")\n",
    "plt.show()"
   ]
  },
  {
   "cell_type": "markdown",
   "metadata": {},
   "source": [
    "# Extract Model"
   ]
  },
  {
   "cell_type": "code",
   "execution_count": 30,
   "metadata": {},
   "outputs": [
    {
     "name": "stdout",
     "output_type": "stream",
     "text": [
      "Model: \"sequential\"\n",
      "_________________________________________________________________\n",
      " Layer (type)                Output Shape              Param #   \n",
      "=================================================================\n",
      " conv1d (Conv1D)             (None, 14, 16)            64        \n",
      "                                                                 \n",
      " batch_normalization (BatchN  (None, 14, 16)           64        \n",
      " ormalization)                                                   \n",
      "                                                                 \n",
      " re_lu (ReLU)                (None, 14, 16)            0         \n",
      "                                                                 \n",
      " dropout (Dropout)           (None, 14, 16)            0         \n",
      "                                                                 \n",
      " conv1d_1 (Conv1D)           (None, 12, 32)            1568      \n",
      "                                                                 \n",
      " batch_normalization_1 (Batc  (None, 12, 32)           128       \n",
      " hNormalization)                                                 \n",
      "                                                                 \n",
      " re_lu_1 (ReLU)              (None, 12, 32)            0         \n",
      "                                                                 \n",
      " dropout_1 (Dropout)         (None, 12, 32)            0         \n",
      "                                                                 \n",
      " max_pooling1d (MaxPooling1D  (None, 6, 32)            0         \n",
      " )                                                               \n",
      "                                                                 \n",
      " conv1d_2 (Conv1D)           (None, 4, 64)             6208      \n",
      "                                                                 \n",
      " batch_normalization_2 (Batc  (None, 4, 64)            256       \n",
      " hNormalization)                                                 \n",
      "                                                                 \n",
      " re_lu_2 (ReLU)              (None, 4, 64)             0         \n",
      "                                                                 \n",
      " dropout_2 (Dropout)         (None, 4, 64)             0         \n",
      "                                                                 \n",
      " max_pooling1d_1 (MaxPooling  (None, 2, 64)            0         \n",
      " 1D)                                                             \n",
      "                                                                 \n",
      " conv1d_transpose (Conv1DTra  (None, 4, 64)            12352     \n",
      " nspose)                                                         \n",
      "                                                                 \n",
      " batch_normalization_3 (Batc  (None, 4, 64)            256       \n",
      " hNormalization)                                                 \n",
      "                                                                 \n",
      " re_lu_3 (ReLU)              (None, 4, 64)             0         \n",
      "                                                                 \n",
      " dropout_3 (Dropout)         (None, 4, 64)             0         \n",
      "                                                                 \n",
      " up_sampling1d (UpSampling1D  (None, 8, 64)            0         \n",
      " )                                                               \n",
      "                                                                 \n",
      " conv1d_transpose_1 (Conv1DT  (None, 8, 32)            2080      \n",
      " ranspose)                                                       \n",
      "                                                                 \n",
      " batch_normalization_4 (Batc  (None, 8, 32)            128       \n",
      " hNormalization)                                                 \n",
      "                                                                 \n",
      " re_lu_4 (ReLU)              (None, 8, 32)             0         \n",
      "                                                                 \n",
      " dropout_4 (Dropout)         (None, 8, 32)             0         \n",
      "                                                                 \n",
      " up_sampling1d_1 (UpSampling  (None, 16, 32)           0         \n",
      " 1D)                                                             \n",
      "                                                                 \n",
      " flatten (Flatten)           (None, 512)               0         \n",
      "                                                                 \n",
      " dense (Dense)               (None, 1)                 513       \n",
      "                                                                 \n",
      "=================================================================\n",
      "Total params: 23,617\n",
      "Trainable params: 23,201\n",
      "Non-trainable params: 416\n",
      "_________________________________________________________________\n"
     ]
    }
   ],
   "source": [
    "model.summary()"
   ]
  },
  {
   "cell_type": "code",
   "execution_count": 31,
   "metadata": {},
   "outputs": [],
   "source": [
    "model.save(\"cnn_triangular.keras\")\n",
    "model.save(\"cnn_triangular.h5\")"
   ]
  },
  {
   "cell_type": "markdown",
   "metadata": {},
   "source": [
    "# Extract Data"
   ]
  },
  {
   "cell_type": "code",
   "execution_count": 32,
   "metadata": {},
   "outputs": [],
   "source": [
    "results_df = pd.DataFrame(\n",
    "    {\n",
    "        \"true_labels\": y,\n",
    "        \"predictions\": reconstructed.flatten(),\n",
    "        \"mse\": mse,\n",
    "        \"anomalies\": anomalies_label,\n",
    "    }\n",
    ")\n",
    "\n",
    "results_df.to_csv(\"./extract/cnn_triangular_seismic_results.csv\", index=False)\n",
    "\n",
    "anomalies_df = pd.DataFrame(\n",
    "    {\"time_rel(sec)\": time_array[windows_size:], \"anomalies\": anomalies_label}\n",
    ")\n",
    "\n",
    "anomalies_df.to_csv(\"./extract/cnn_triangular_seismic_anomalies.csv\", index=False)"
   ]
  }
 ],
 "metadata": {
  "kernelspec": {
   "display_name": "Python 3",
   "language": "python",
   "name": "python3"
  },
  "language_info": {
   "codemirror_mode": {
    "name": "ipython",
    "version": 3
   },
   "file_extension": ".py",
   "mimetype": "text/x-python",
   "name": "python",
   "nbconvert_exporter": "python",
   "pygments_lexer": "ipython3",
   "version": "3.12.6"
  }
 },
 "nbformat": 4,
 "nbformat_minor": 2
}
