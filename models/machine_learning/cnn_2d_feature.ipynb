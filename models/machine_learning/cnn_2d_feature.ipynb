{
 "cells": [
  {
   "cell_type": "markdown",
   "metadata": {},
   "source": [
    "# 2D Convolutional Neural Network - With Mean Feature\n"
   ]
  },
  {
   "cell_type": "markdown",
   "metadata": {},
   "source": [
    "### Import Packages\n"
   ]
  },
  {
   "cell_type": "code",
   "execution_count": 1,
   "metadata": {},
   "outputs": [],
   "source": [
    "import os\n",
    "import pandas as pd\n",
    "import numpy as np\n",
    "import tensorflow as tf\n",
    "import matplotlib.pyplot as plt\n",
    "from tensorflow.keras.models import Sequential\n",
    "from tensorflow.keras import layers, models\n",
    "from tensorflow.keras.layers import (\n",
    "    Conv1D,\n",
    "    MaxPooling1D,\n",
    "    Flatten,\n",
    "    Dense,\n",
    "    Conv2D,\n",
    "    MaxPooling2D,\n",
    "    UpSampling2D,\n",
    ")\n",
    "from tensorflow.keras.utils import Sequence\n",
    "from sklearn.metrics import confusion_matrix, ConfusionMatrixDisplay\n",
    "from scipy.stats import skew, kurtosis"
   ]
  },
  {
   "cell_type": "markdown",
   "metadata": {},
   "source": [
    "# Check If GPU Enabled\n",
    "Latest functioning version set as of October 6, 2024 according to https://www.tensorflow.org/install/source_windows is\n",
    "- Python 3.10.11\n",
    "- Tensorflow 2.10\n",
    "- CUDA Toolkit 11.2\n",
    "- CUDNN 8.1"
   ]
  },
  {
   "cell_type": "code",
   "execution_count": 2,
   "metadata": {},
   "outputs": [
    {
     "name": "stdout",
     "output_type": "stream",
     "text": [
      "Version:  2.10.0\n",
      "Num GPUs Available:  [PhysicalDevice(name='/physical_device:GPU:0', device_type='GPU')]\n",
      "TensorFlow is using GPU\n",
      "/physical_device:GPU:0\n"
     ]
    }
   ],
   "source": [
    "# tf.debugging.set_log_device_placement(True) # For Verbose Output\n",
    "print(\"Version: \", tf.__version__)\n",
    "\n",
    "\n",
    "print(\"Num GPUs Available: \", tf.config.list_physical_devices(\"GPU\"))\n",
    "\n",
    "\n",
    "gpus = tf.config.list_physical_devices(\"GPU\")\n",
    "if gpus:\n",
    "\n",
    "    print(\"TensorFlow is using GPU\")\n",
    "    for gpu in gpus:\n",
    "\n",
    "        print(gpu.name)\n",
    "else:\n",
    "\n",
    "    print(\"TensorFlow is not using GPU\")"
   ]
  },
  {
   "cell_type": "markdown",
   "metadata": {},
   "source": [
    "# Pick Datasets to Train\n"
   ]
  },
  {
   "cell_type": "code",
   "execution_count": 3,
   "metadata": {},
   "outputs": [
    {
     "name": "stdout",
     "output_type": "stream",
     "text": [
      "Number of events:  76\n"
     ]
    }
   ],
   "source": [
    "lunar_train_dir = r\"../../data/lunar/training/data/S12_GradeA\"\n",
    "num_of_events = len(\n",
    "    [file for file in os.listdir(lunar_train_dir) if file.endswith(\".csv\")]\n",
    ")\n",
    "print(\"Number of events: \", num_of_events)\n",
    "event = [i for i in range(5)]  # num_of_events"
   ]
  },
  {
   "cell_type": "markdown",
   "metadata": {},
   "source": [
    "# Import Catalog\n"
   ]
  },
  {
   "cell_type": "code",
   "execution_count": 4,
   "metadata": {},
   "outputs": [
    {
     "data": {
      "text/html": [
       "<div>\n",
       "<style scoped>\n",
       "    .dataframe tbody tr th:only-of-type {\n",
       "        vertical-align: middle;\n",
       "    }\n",
       "\n",
       "    .dataframe tbody tr th {\n",
       "        vertical-align: top;\n",
       "    }\n",
       "\n",
       "    .dataframe thead th {\n",
       "        text-align: right;\n",
       "    }\n",
       "</style>\n",
       "<table border=\"1\" class=\"dataframe\">\n",
       "  <thead>\n",
       "    <tr style=\"text-align: right;\">\n",
       "      <th></th>\n",
       "      <th>filename</th>\n",
       "      <th>time_abs(%Y-%m-%dT%H:%M:%S.%f)</th>\n",
       "      <th>time_rel(sec)</th>\n",
       "      <th>evid</th>\n",
       "      <th>mq_type</th>\n",
       "    </tr>\n",
       "  </thead>\n",
       "  <tbody>\n",
       "    <tr>\n",
       "      <th>0</th>\n",
       "      <td>xa.s12.00.mhz.1970-01-19HR00_evid00002</td>\n",
       "      <td>1970-01-19T20:25:00.000000</td>\n",
       "      <td>73500.0</td>\n",
       "      <td>evid00002</td>\n",
       "      <td>impact_mq</td>\n",
       "    </tr>\n",
       "    <tr>\n",
       "      <th>1</th>\n",
       "      <td>xa.s12.00.mhz.1970-03-25HR00_evid00003</td>\n",
       "      <td>1970-03-25T03:32:00.000000</td>\n",
       "      <td>12720.0</td>\n",
       "      <td>evid00003</td>\n",
       "      <td>impact_mq</td>\n",
       "    </tr>\n",
       "    <tr>\n",
       "      <th>2</th>\n",
       "      <td>xa.s12.00.mhz.1970-03-26HR00_evid00004</td>\n",
       "      <td>1970-03-26T20:17:00.000000</td>\n",
       "      <td>73020.0</td>\n",
       "      <td>evid00004</td>\n",
       "      <td>impact_mq</td>\n",
       "    </tr>\n",
       "    <tr>\n",
       "      <th>3</th>\n",
       "      <td>xa.s12.00.mhz.1970-04-25HR00_evid00006</td>\n",
       "      <td>1970-04-25T01:14:00.000000</td>\n",
       "      <td>4440.0</td>\n",
       "      <td>evid00006</td>\n",
       "      <td>impact_mq</td>\n",
       "    </tr>\n",
       "    <tr>\n",
       "      <th>4</th>\n",
       "      <td>xa.s12.00.mhz.1970-04-26HR00_evid00007</td>\n",
       "      <td>1970-04-26T14:29:00.000000</td>\n",
       "      <td>52140.0</td>\n",
       "      <td>evid00007</td>\n",
       "      <td>deep_mq</td>\n",
       "    </tr>\n",
       "    <tr>\n",
       "      <th>...</th>\n",
       "      <td>...</td>\n",
       "      <td>...</td>\n",
       "      <td>...</td>\n",
       "      <td>...</td>\n",
       "      <td>...</td>\n",
       "    </tr>\n",
       "    <tr>\n",
       "      <th>71</th>\n",
       "      <td>xa.s12.00.mhz.1974-10-14HR00_evid00156</td>\n",
       "      <td>1974-10-14T17:43:00.000000</td>\n",
       "      <td>63780.0</td>\n",
       "      <td>evid00156</td>\n",
       "      <td>impact_mq</td>\n",
       "    </tr>\n",
       "    <tr>\n",
       "      <th>72</th>\n",
       "      <td>xa.s12.00.mhz.1975-04-12HR00_evid00191</td>\n",
       "      <td>1975-04-12T18:15:00.000000</td>\n",
       "      <td>65700.0</td>\n",
       "      <td>evid00191</td>\n",
       "      <td>impact_mq</td>\n",
       "    </tr>\n",
       "    <tr>\n",
       "      <th>73</th>\n",
       "      <td>xa.s12.00.mhz.1975-05-04HR00_evid00192</td>\n",
       "      <td>1975-05-04T10:05:00.000000</td>\n",
       "      <td>36300.0</td>\n",
       "      <td>evid00192</td>\n",
       "      <td>impact_mq</td>\n",
       "    </tr>\n",
       "    <tr>\n",
       "      <th>74</th>\n",
       "      <td>xa.s12.00.mhz.1975-06-24HR00_evid00196</td>\n",
       "      <td>1975-06-24T16:03:00.000000</td>\n",
       "      <td>57780.0</td>\n",
       "      <td>evid00196</td>\n",
       "      <td>impact_mq</td>\n",
       "    </tr>\n",
       "    <tr>\n",
       "      <th>75</th>\n",
       "      <td>xa.s12.00.mhz.1975-06-26HR00_evid00198</td>\n",
       "      <td>1975-06-26T03:24:00.000000</td>\n",
       "      <td>12240.0</td>\n",
       "      <td>evid00198</td>\n",
       "      <td>impact_mq</td>\n",
       "    </tr>\n",
       "  </tbody>\n",
       "</table>\n",
       "<p>76 rows × 5 columns</p>\n",
       "</div>"
      ],
      "text/plain": [
       "                                  filename time_abs(%Y-%m-%dT%H:%M:%S.%f)  \\\n",
       "0   xa.s12.00.mhz.1970-01-19HR00_evid00002     1970-01-19T20:25:00.000000   \n",
       "1   xa.s12.00.mhz.1970-03-25HR00_evid00003     1970-03-25T03:32:00.000000   \n",
       "2   xa.s12.00.mhz.1970-03-26HR00_evid00004     1970-03-26T20:17:00.000000   \n",
       "3   xa.s12.00.mhz.1970-04-25HR00_evid00006     1970-04-25T01:14:00.000000   \n",
       "4   xa.s12.00.mhz.1970-04-26HR00_evid00007     1970-04-26T14:29:00.000000   \n",
       "..                                     ...                            ...   \n",
       "71  xa.s12.00.mhz.1974-10-14HR00_evid00156     1974-10-14T17:43:00.000000   \n",
       "72  xa.s12.00.mhz.1975-04-12HR00_evid00191     1975-04-12T18:15:00.000000   \n",
       "73  xa.s12.00.mhz.1975-05-04HR00_evid00192     1975-05-04T10:05:00.000000   \n",
       "74  xa.s12.00.mhz.1975-06-24HR00_evid00196     1975-06-24T16:03:00.000000   \n",
       "75  xa.s12.00.mhz.1975-06-26HR00_evid00198     1975-06-26T03:24:00.000000   \n",
       "\n",
       "    time_rel(sec)       evid    mq_type  \n",
       "0         73500.0  evid00002  impact_mq  \n",
       "1         12720.0  evid00003  impact_mq  \n",
       "2         73020.0  evid00004  impact_mq  \n",
       "3          4440.0  evid00006  impact_mq  \n",
       "4         52140.0  evid00007    deep_mq  \n",
       "..            ...        ...        ...  \n",
       "71        63780.0  evid00156  impact_mq  \n",
       "72        65700.0  evid00191  impact_mq  \n",
       "73        36300.0  evid00192  impact_mq  \n",
       "74        57780.0  evid00196  impact_mq  \n",
       "75        12240.0  evid00198  impact_mq  \n",
       "\n",
       "[76 rows x 5 columns]"
      ]
     },
     "execution_count": 4,
     "metadata": {},
     "output_type": "execute_result"
    }
   ],
   "source": [
    "catalog_path = r\"../../data/lunar/training/catalogs/apollo12_catalog_GradeA_final.csv\"\n",
    "catalog = pd.read_csv(catalog_path)\n",
    "catalog"
   ]
  },
  {
   "cell_type": "markdown",
   "metadata": {},
   "source": [
    "# Get Filename and Anomaly Position"
   ]
  },
  {
   "cell_type": "code",
   "execution_count": 5,
   "metadata": {},
   "outputs": [
    {
     "name": "stdout",
     "output_type": "stream",
     "text": [
      "Event Filenames: ['xa.s12.00.mhz.1970-01-19HR00_evid00002.csv', 'xa.s12.00.mhz.1970-03-25HR00_evid00003.csv', 'xa.s12.00.mhz.1970-03-26HR00_evid00004.csv', 'xa.s12.00.mhz.1970-04-25HR00_evid00006.csv', 'xa.s12.00.mhz.1970-04-26HR00_evid00007.csv']\n",
      "Anomaly Positions in Each File: [73500, 12720, 73020, 4440, 52140]\n"
     ]
    }
   ],
   "source": [
    "event_filename = [catalog[\"filename\"][i] + r\".csv\" for i in event]\n",
    "print(\"Event Filenames:\", event_filename)\n",
    "\n",
    "true_anomaly_time = [int(catalog[\"time_rel(sec)\"][i]) for i in event]\n",
    "print(\"Anomaly Positions in Each File:\", true_anomaly_time)"
   ]
  },
  {
   "cell_type": "markdown",
   "metadata": {},
   "source": [
    "## Load Lunar Training Data\n"
   ]
  },
  {
   "cell_type": "code",
   "execution_count": 6,
   "metadata": {},
   "outputs": [
    {
     "name": "stdout",
     "output_type": "stream",
     "text": [
      "['../../data/lunar/training/data/S12_GradeA\\\\xa.s12.00.mhz.1970-01-19HR00_evid00002.csv', '../../data/lunar/training/data/S12_GradeA\\\\xa.s12.00.mhz.1970-03-25HR00_evid00003.csv', '../../data/lunar/training/data/S12_GradeA\\\\xa.s12.00.mhz.1970-03-26HR00_evid00004.csv', '../../data/lunar/training/data/S12_GradeA\\\\xa.s12.00.mhz.1970-04-25HR00_evid00006.csv', '../../data/lunar/training/data/S12_GradeA\\\\xa.s12.00.mhz.1970-04-26HR00_evid00007.csv']\n"
     ]
    }
   ],
   "source": [
    "csv_files_path = r\"../../data/lunar/training/data/S12_GradeA\"\n",
    "csv_files = [os.path.join(csv_files_path, file) for file in event_filename]\n",
    "print(csv_files)"
   ]
  },
  {
   "cell_type": "markdown",
   "metadata": {},
   "source": [
    "# Get Length, Time, and Speed of Each Event\n",
    "Load all .csv's into one dataframe. Additionally, take the standard normal value of the velocity values, *i.e.*\n",
    "$$\n",
    "    X_{standard} = \\frac{X - \\mu_X}{\\sigma_X}.\n",
    "$$"
   ]
  },
  {
   "cell_type": "code",
   "execution_count": 7,
   "metadata": {},
   "outputs": [],
   "source": [
    "lens_array = []\n",
    "time_arrays = []\n",
    "data_arrays = []\n",
    "for file in csv_files:\n",
    "    df = pd.read_csv(file)\n",
    "\n",
    "    lens_array.append(len(df))\n",
    "\n",
    "    t = df[\"time_rel(sec)\"].values\n",
    "    time_arrays.append(t)\n",
    "\n",
    "    X = df[\"velocity(m/s)\"].values\n",
    "    X_standard = (X - np.mean(X)) / np.std(X)\n",
    "    data_arrays.append(X_standard)\n",
    "\n",
    "\n",
    "time_array = np.concatenate(time_arrays)\n",
    "time = pd.DataFrame(time_array, columns=[\"time_rel(sec)\"])\n",
    "\n",
    "data_array = np.concatenate(data_arrays)\n",
    "seismic_data = pd.DataFrame(data_array, columns=[\"velocity(m/s)\"])"
   ]
  },
  {
   "cell_type": "markdown",
   "metadata": {},
   "source": [
    "## Data Preparation\n"
   ]
  },
  {
   "cell_type": "code",
   "execution_count": 8,
   "metadata": {},
   "outputs": [],
   "source": [
    "X_standard = seismic_data[\"velocity(m/s)\"].values\n",
    "X_standard = X_standard.astype(np.float32)  # To save memory"
   ]
  },
  {
   "cell_type": "markdown",
   "metadata": {},
   "source": [
    "## Create Window Sequences"
   ]
  },
  {
   "cell_type": "code",
   "execution_count": 9,
   "metadata": {},
   "outputs": [],
   "source": [
    "windows_size = 16\n",
    "batch_size = 500\n",
    "\n",
    "# Create sequences for CNN\n",
    "windows = []\n",
    "features = []\n",
    "for i in range(len(X_standard) - windows_size):\n",
    "    windows.append(X_standard[i : i + windows_size])\n",
    "    features.append(np.mean(X_standard[i : i + windows_size]))\n",
    "\n",
    "windows = np.array(windows)\n",
    "features = np.array(features)"
   ]
  },
  {
   "cell_type": "code",
   "execution_count": 10,
   "metadata": {},
   "outputs": [
    {
     "name": "stdout",
     "output_type": "stream",
     "text": [
      "(2862047, 16)\n",
      "(2862047,)\n"
     ]
    }
   ],
   "source": [
    "print(windows.shape)\n",
    "print(features.shape)"
   ]
  },
  {
   "cell_type": "markdown",
   "metadata": {},
   "source": [
    "# Get True Anomaly Labels\n",
    "\n",
    "Places a 0 in `y` for all the values before `anomaly_pos` and 1 for all the values after `anomaly_pos`. Creates a sigmoid labelling."
   ]
  },
  {
   "cell_type": "code",
   "execution_count": 12,
   "metadata": {},
   "outputs": [
    {
     "name": "stdout",
     "output_type": "stream",
     "text": [
      "(572415,)\n",
      "50\n"
     ]
    }
   ],
   "source": [
    "width = 20\n",
    "freq = 6.625\n",
    "sampling_freq = 1 / freq\n",
    "\n",
    "y = np.zeros(len(X_standard[windows_size:]))\n",
    "\n",
    "for anomaly_index in range(len(true_anomaly_time)):\n",
    "\n",
    "    length = lens_array[anomaly_index]\n",
    "    start = np.sum(lens_array[j] for j in range(anomaly_index))\n",
    "    end = start + length\n",
    "    print(\"Length of event:\", length)\n",
    "    print(\"[Start, End]:\", \"[\", start, \",\", end, \"]\")\n",
    "\n",
    "    anomaly = true_anomaly_time[anomaly_index]\n",
    "    print(\"Anomaly position:\", anomaly)\n",
    "\n",
    "    sigma = int(width)\n",
    "    center = int(anomaly * freq)\n",
    "    y[start + center - sigma : end] = 1\n",
    "    print(\"Range of 1s:\", \"[\", start + center - sigma, \",\", start + center + sigma, \"]\")\n",
    "    print(\"===================\")\n",
    "\n",
    "print(\"===================\")\n",
    "print(\"y shape:\", y.shape)\n",
    "print(\"Non-zero elements in y:\", np.count_nonzero(y))"
   ]
  },
  {
   "cell_type": "code",
   "execution_count": 13,
   "metadata": {},
   "outputs": [
    {
     "name": "stdout",
     "output_type": "stream",
     "text": [
      "(572399, 16, 1)\n",
      "(572399, 1, 1)\n"
     ]
    }
   ],
   "source": [
    "# Reshape your input data\n",
    "windows = np.array(windows).reshape(-1, windows_size, 1)\n",
    "print(windows.shape)\n",
    "features = np.array(features).reshape(-1, 1, 1)\n",
    "print(features.shape)\n",
    "\n",
    "# Create the CNN model\n",
    "model = models.Sequential()\n",
    "\n",
    "# Input Layer\n",
    "model.add(layers.Conv2D(windows_size, (3, 1), input_shape=(windows_size, 1, 1)))\n",
    "model.add(layers.BatchNormalization())\n",
    "model.add(layers.ReLU())\n",
    "model.add(layers.Dropout(0.5))\n",
    "\n",
    "# Down Sampling Layers\n",
    "model.add(layers.Conv2D(2 * windows_size, (3, 1)))\n",
    "model.add(layers.BatchNormalization())\n",
    "model.add(layers.ReLU())\n",
    "model.add(layers.Dropout(0.5))\n",
    "model.add(layers.MaxPooling2D(pool_size=(2, 1)))\n",
    "\n",
    "model.add(layers.Conv2D(4 * windows_size, (3, 1)))\n",
    "model.add(layers.BatchNormalization())\n",
    "model.add(layers.ReLU())\n",
    "model.add(layers.Dropout(0.5))\n",
    "model.add(layers.MaxPooling2D(pool_size=(2, 1)))  # 2.5 == 2 or 3\n",
    "\n",
    "# Up Sampling Layers\n",
    "model.add(layers.Conv2DTranspose(4 * windows_size, (2, 1)))\n",
    "model.add(layers.BatchNormalization())\n",
    "model.add(layers.ReLU())\n",
    "model.add(layers.Dropout(0.5))\n",
    "model.add(layers.UpSampling2D(size=(2, 1)))\n",
    "\n",
    "model.add(layers.Conv2DTranspose(2 * windows_size, (3, 1)))\n",
    "model.add(layers.BatchNormalization())\n",
    "model.add(layers.ReLU())\n",
    "model.add(layers.Dropout(0.5))\n",
    "model.add(layers.UpSampling2D(size=(2, 1)))\n",
    "\n",
    "# Output Layer\n",
    "model.add(layers.Dense(1, activation=\"sigmoid\"))\n",
    "model.add(Flatten())\n",
    "\n",
    "\n",
    "# Compile the model\n",
    "model.compile(\n",
    "    optimizer=\"adam\",\n",
    "    loss=tf.keras.losses.BinaryCrossentropy(label_smoothing=0.1),\n",
    "    metrics=[\"accuracy\"],\n",
    ")"
   ]
  },
  {
   "cell_type": "markdown",
   "metadata": {},
   "source": [
    "# Train the Autoencoder using Real Data Only"
   ]
  },
  {
   "cell_type": "code",
   "execution_count": 14,
   "metadata": {},
   "outputs": [
    {
     "name": "stdout",
     "output_type": "stream",
     "text": [
      "Epoch 1/2\n",
      "1145/1145 [==============================] - 10s 7ms/step - loss: 0.2524\n",
      "Epoch 2/2\n",
      "1145/1145 [==============================] - 8s 7ms/step - loss: 0.2107\n"
     ]
    }
   ],
   "source": [
    "# Train the autoencoder using normal data only\n",
    "history = model.fit(windows, y, epochs=2, batch_size=batch_size)"
   ]
  },
  {
   "cell_type": "markdown",
   "metadata": {},
   "source": [
    "# Plot the Accuracy Change Over Epochs"
   ]
  },
  {
   "cell_type": "code",
   "execution_count": 15,
   "metadata": {},
   "outputs": [],
   "source": [
    "plt.plot(history.history[\"accuracy\"])\n",
    "plt.title(\"model accuracy\")\n",
    "plt.ylabel(\"accuracy\")\n",
    "plt.xlabel(\"epoch\")\n",
    "plt.show()"
   ]
  },
  {
   "cell_type": "markdown",
   "metadata": {},
   "source": [
    "# Plot the Model Change Over Epochs"
   ]
  },
  {
   "cell_type": "code",
   "execution_count": 16,
   "metadata": {},
   "outputs": [
    {
     "data": {
      "image/png": "[encoded data removed]",
      "text/plain": [
       "<Figure size 640x480 with 1 Axes>"
      ]
     },
     "metadata": {},
     "output_type": "display_data"
    }
   ],
   "source": [
    "plt.plot(history.history[\"loss\"])\n",
    "plt.title(\"model loss\")\n",
    "plt.ylabel(\"loss\")\n",
    "plt.xlabel(\"epoch\")\n",
    "plt.show()"
   ]
  },
  {
   "cell_type": "markdown",
   "metadata": {},
   "source": [
    "# Predict/Detect Anomalies\n",
    "Calculate the reconstruction error on new data."
   ]
  },
  {
   "cell_type": "code",
   "execution_count": 17,
   "metadata": {},
   "outputs": [
    {
     "name": "stdout",
     "output_type": "stream",
     "text": [
      "17888/17888 [==============================] - 32s 2ms/step\n"
     ]
    }
   ],
   "source": [
    "reconstructed = model.predict(windows)"
   ]
  },
  {
   "cell_type": "code",
   "execution_count": 18,
   "metadata": {},
   "outputs": [
    {
     "name": "stdout",
     "output_type": "stream",
     "text": [
      "[[0.05228971 0.05228971 0.05135477 ... 0.06317846 0.06377659 0.06377659]\n",
      " [0.05228971 0.05228971 0.05135477 ... 0.06317846 0.06377659 0.06377659]\n",
      " [0.05228971 0.05228971 0.05135477 ... 0.06317846 0.06377659 0.06377659]\n",
      " ...\n",
      " [0.05228971 0.05228971 0.05135477 ... 0.06317846 0.06377659 0.06377659]\n",
      " [0.05228971 0.05228971 0.05135477 ... 0.06317846 0.06377659 0.06377659]\n",
      " [0.05228971 0.05228971 0.05135477 ... 0.06317846 0.06377659 0.06377659]]\n",
      "(572399, 16)\n",
      "0.08826595\n",
      "(572399, 16, 1)\n"
     ]
    }
   ],
   "source": [
    "print(\"Reconstructed Shape:\", reconstructed.shape)\n",
    "print(\"Windows Shape:\", windows.shape)"
   ]
  },
  {
   "cell_type": "markdown",
   "metadata": {},
   "source": [
    "# Calculate Mean Squared Error (MSE)"
   ]
  },
  {
   "cell_type": "code",
   "execution_count": 19,
   "metadata": {},
   "outputs": [
    {
     "name": "stdout",
     "output_type": "stream",
     "text": [
      "[0.00389744 0.00389525 0.00389282 ... 0.00387222 0.00387324 0.00387479]\n",
      "186.64445\n",
      "489366\n",
      "58\n"
     ]
    }
   ],
   "source": [
    "mse = np.mean(np.power(windows[:, :, 0] - reconstructed, 2), axis=1)\n",
    "print(\"MSE Shape:\", mse.shape)"
   ]
  },
  {
   "cell_type": "markdown",
   "metadata": {},
   "source": [
    "# Set a Threshold for Anomaly Detection Based on the MSE Quantile Values"
   ]
  },
  {
   "cell_type": "code",
   "execution_count": null,
   "metadata": {},
   "outputs": [],
   "source": [
    "high1 = np.quantile(np.abs(mse), 0.9999)\n",
    "# high2 = np.quantile(np.abs(mse), 0.9951)\n",
    "anomalies_label = [1 if i > high1 else 0 for i in mse]\n",
    "print(\"Predicted Anomaly Position:\", np.argmax(anomalies_label))\n",
    "print(\n",
    "    \"Predicted Number of Anomalies:\",\n",
    "    np.count_nonzero(anomalies_label),\n",
    "    \"(depends directly on the quantile range)\",\n",
    ")"
   ]
  },
  {
   "cell_type": "markdown",
   "metadata": {},
   "source": [
    "# Plot the Seismic Data and Scatterplot of the Predicted Data"
   ]
  },
  {
   "cell_type": "code",
   "execution_count": 20,
   "metadata": {},
   "outputs": [
    {
     "name": "stdout",
     "output_type": "stream",
     "text": [
      "58\n"
     ]
    },
    {
     "data": {
      "image/png": "[encoded data removed]",
      "text/plain": [
       "<Figure size 1500x600 with 1 Axes>"
      ]
     },
     "metadata": {},
     "output_type": "display_data"
    }
   ],
   "source": [
    "plt.figure(figsize=(15, 6))\n",
    "\n",
    "\n",
    "plt.plot(\n",
    "    time[\"time_rel(sec)\"][:],\n",
    "    X_standard,\n",
    "    label=\"Seismic Activity\",\n",
    "    color=\"blue\",\n",
    ")\n",
    "\n",
    "\n",
    "anomaly_indices = np.where(anomalies_label)[0]\n",
    "plt.scatter(\n",
    "    time[\"time_rel(sec)\"][anomaly_indices + windows_size],\n",
    "    X_standard[anomaly_indices + windows_size],\n",
    "    color=\"red\",\n",
    "    label=\"Anomalies\",\n",
    "    marker=\"o\",\n",
    "    s=10,\n",
    "    zorder=2,\n",
    ")\n",
    "print(len(anomaly_indices))\n",
    "\n",
    "# arrival_line = plt.axvline(x=true_anomaly_time, c=\"red\", label=\"Rel. Arrival\")\n",
    "\n",
    "plt.title(\"Seismic Activity with Anomalies Highlighted\")\n",
    "plt.xlabel(\"Time (Relative Seconds)\")\n",
    "plt.ylabel(\"Normalised Velocity (m/s)\")\n",
    "plt.legend()\n",
    "\n",
    "\n",
    "plt.show()"
   ]
  },
  {
   "cell_type": "markdown",
   "metadata": {},
   "source": [
    "# EXTRA: Confusion Matrix\n",
    "Not really valid..."
   ]
  },
  {
   "cell_type": "code",
   "execution_count": 22,
   "metadata": {},
   "outputs": [
    {
     "data": {
      "image/png": "[encoded data removed]",
      "text/plain": [
       "<Figure size 640x480 with 2 Axes>"
      ]
     },
     "metadata": {},
     "output_type": "display_data"
    }
   ],
   "source": [
    "# y_pred = anomalies.astype(int)\n",
    "conf_matrix = confusion_matrix(y, anomalies_label)\n",
    "\n",
    "display = ConfusionMatrixDisplay(\n",
    "    confusion_matrix=conf_matrix, display_labels=[\"Normal\", \"Anomaly\"]\n",
    ")\n",
    "\n",
    "display.plot(cmap=plt.cm.Blues)\n",
    "plt.title(\"Confusion Matrix for Anomaly Detection\")\n",
    "plt.show()"
   ]
  },
  {
   "cell_type": "markdown",
   "metadata": {},
   "source": [
    "# Extract Model"
   ]
  },
  {
   "cell_type": "code",
   "execution_count": 24,
   "metadata": {},
   "outputs": [
    {
     "name": "stdout",
     "output_type": "stream",
     "text": [
      "Model: \"sequential\"\n",
      "_________________________________________________________________\n",
      " Layer (type)                Output Shape              Param #   \n",
      "=================================================================\n",
      " conv2d (Conv2D)             (None, 14, 1, 16)         64        \n",
      "                                                                 \n",
      " batch_normalization (BatchN  (None, 14, 1, 16)        64        \n",
      " ormalization)                                                   \n",
      "                                                                 \n",
      " re_lu (ReLU)                (None, 14, 1, 16)         0         \n",
      "                                                                 \n",
      " dropout (Dropout)           (None, 14, 1, 16)         0         \n",
      "                                                                 \n",
      " conv2d_1 (Conv2D)           (None, 12, 1, 32)         1568      \n",
      "                                                                 \n",
      " batch_normalization_1 (Batc  (None, 12, 1, 32)        128       \n",
      " hNormalization)                                                 \n",
      "                                                                 \n",
      " re_lu_1 (ReLU)              (None, 12, 1, 32)         0         \n",
      "                                                                 \n",
      " dropout_1 (Dropout)         (None, 12, 1, 32)         0         \n",
      "                                                                 \n",
      " max_pooling2d (MaxPooling2D  (None, 6, 1, 32)         0         \n",
      " )                                                               \n",
      "                                                                 \n",
      " conv2d_2 (Conv2D)           (None, 4, 1, 64)          6208      \n",
      "                                                                 \n",
      " batch_normalization_2 (Batc  (None, 4, 1, 64)         256       \n",
      " hNormalization)                                                 \n",
      "                                                                 \n",
      " re_lu_2 (ReLU)              (None, 4, 1, 64)          0         \n",
      "                                                                 \n",
      " dropout_2 (Dropout)         (None, 4, 1, 64)          0         \n",
      "                                                                 \n",
      " max_pooling2d_1 (MaxPooling  (None, 2, 1, 64)         0         \n",
      " 2D)                                                             \n",
      "                                                                 \n",
      " conv2d_transpose (Conv2DTra  (None, 3, 1, 64)         8256      \n",
      " nspose)                                                         \n",
      "                                                                 \n",
      " batch_normalization_3 (Batc  (None, 3, 1, 64)         256       \n",
      " hNormalization)                                                 \n",
      "                                                                 \n",
      " re_lu_3 (ReLU)              (None, 3, 1, 64)          0         \n",
      "                                                                 \n",
      " dropout_3 (Dropout)         (None, 3, 1, 64)          0         \n",
      "                                                                 \n",
      " up_sampling2d (UpSampling2D  (None, 6, 1, 64)         0         \n",
      " )                                                               \n",
      "                                                                 \n",
      " conv2d_transpose_1 (Conv2DT  (None, 8, 1, 32)         6176      \n",
      " ranspose)                                                       \n",
      "                                                                 \n",
      " batch_normalization_4 (Batc  (None, 8, 1, 32)         128       \n",
      " hNormalization)                                                 \n",
      "                                                                 \n",
      " re_lu_4 (ReLU)              (None, 8, 1, 32)          0         \n",
      "                                                                 \n",
      " dropout_4 (Dropout)         (None, 8, 1, 32)          0         \n",
      "                                                                 \n",
      " up_sampling2d_1 (UpSampling  (None, 16, 1, 32)        0         \n",
      " 2D)                                                             \n",
      "                                                                 \n",
      " dense (Dense)               (None, 16, 1, 1)          33        \n",
      "                                                                 \n",
      " flatten (Flatten)           (None, 16)                0         \n",
      "                                                                 \n",
      "=================================================================\n",
      "Total params: 23,137\n",
      "Trainable params: 22,721\n",
      "Non-trainable params: 416\n",
      "_________________________________________________________________\n"
     ]
    }
   ],
   "source": [
    "model.summary()"
   ]
  },
  {
   "cell_type": "code",
   "execution_count": 25,
   "metadata": {},
   "outputs": [],
   "source": [
    "model.save(\"cnn_2d_feature.keras\")\n",
    "model.save(\"cnn_2d_feature.h5\")"
   ]
  }
 ],
 "metadata": {
  "kernelspec": {
   "display_name": "Python 3",
   "language": "python",
   "name": "python3"
  },
  "language_info": {
   "codemirror_mode": {
    "name": "ipython",
    "version": 3
   },
   "file_extension": ".py",
   "mimetype": "text/x-python",
   "name": "python",
   "nbconvert_exporter": "python",
   "pygments_lexer": "ipython3",
   "version": "3.10.11"
  }
 },
 "nbformat": 4,
 "nbformat_minor": 2
}
